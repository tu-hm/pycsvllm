{
 "cells": [
  {
   "metadata": {
    "ExecuteTime": {
     "end_time": "2025-04-25T09:54:20.005175Z",
     "start_time": "2025-04-25T09:54:19.995635Z"
    }
   },
   "cell_type": "code",
   "source": [
    "from src.file_processing import *\n",
    "from src.file_processing.csv import CSVLoader"
   ],
   "id": "d33df693c266d794",
   "outputs": [],
   "execution_count": 2
  },
  {
   "metadata": {},
   "cell_type": "code",
   "outputs": [],
   "execution_count": null,
   "source": "df = CSVLoader",
   "id": "af622c24eaaff9fe"
  }
 ],
 "metadata": {
  "kernelspec": {
   "name": "python3",
   "language": "python",
   "display_name": "Python 3 (ipykernel)"
  }
 },
 "nbformat": 5,
 "nbformat_minor": 9
}
