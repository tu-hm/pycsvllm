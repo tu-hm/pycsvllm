{
 "cells": [
  {
   "metadata": {
    "ExecuteTime": {
     "end_time": "2025-04-27T15:31:59.478452Z",
     "start_time": "2025-04-27T15:31:57.964245Z"
    }
   },
   "cell_type": "code",
   "source": [
    "from src.file_processing.csv import CSVLoader\n",
    "\n",
    "correct_data = CSVLoader('../public/company-purchasing-dataset/spend_analysis_dataset.csv')\n",
    "incorrect_datetime_data = CSVLoader('../public/company-purchasing-dataset/messy_datetime_spend_analysis_dataset.csv')\n",
    "correct_data.data['PurchaseDate'].head()"
   ],
   "id": "1c9c5dd13a7b62cb",
   "outputs": [
    {
     "data": {
      "text/plain": [
       "0    2024-04-19\n",
       "1    2024-07-06\n",
       "2    2024-09-10\n",
       "3    2024-01-21\n",
       "4    2024-02-03\n",
       "Name: PurchaseDate, dtype: object"
      ]
     },
     "execution_count": 1,
     "metadata": {},
     "output_type": "execute_result"
    }
   ],
   "execution_count": 1
  },
  {
   "metadata": {
    "ExecuteTime": {
     "end_time": "2025-04-27T15:32:20.782674Z",
     "start_time": "2025-04-27T15:31:59.514708Z"
    }
   },
   "cell_type": "code",
   "source": [
    "schema = correct_data.generate_schema()\n",
    "schema.json_schema"
   ],
   "id": "2799daadaa53b029",
   "outputs": [
    {
     "data": {
      "text/plain": [
       "{'$schema': 'https://json-schema.org/draft/2020-12/schema',\n",
       " 'type': 'array',\n",
       " 'items': {'type': 'object',\n",
       "  'properties': {'TransactionID': {'type': 'string',\n",
       "    'pattern': '^TXN\\\\d{3}$',\n",
       "    'description': 'Unique transaction identifier',\n",
       "    'examples': ['TXN483', 'TXN034']},\n",
       "   'ItemName': {'type': 'string',\n",
       "    'enum': ['Monitor',\n",
       "     'Whiteboard',\n",
       "     'Stapler',\n",
       "     'Notepad',\n",
       "     'Desk Chair',\n",
       "     'Printer',\n",
       "     'Laptop Bag',\n",
       "     'Printer Ink',\n",
       "     'Laptop',\n",
       "     'Annual Software License'],\n",
       "    'description': 'Name of the purchased item',\n",
       "    'examples': ['Monitor', 'Desk Chair']},\n",
       "   'Category': {'type': 'string',\n",
       "    'enum': ['Electronics',\n",
       "     'Furniture',\n",
       "     'Office Supplies',\n",
       "     'Stationery',\n",
       "     'Accessories',\n",
       "     'Software'],\n",
       "    'description': 'Item category',\n",
       "    'examples': ['Electronics', 'Furniture']},\n",
       "   'Quantity': {'type': 'integer',\n",
       "    'minimum': 1,\n",
       "    'description': 'Number of items purchased',\n",
       "    'examples': [7, 14]},\n",
       "   'UnitPrice': {'type': 'number',\n",
       "    'minimum': 0,\n",
       "    'description': 'Price per single item unit',\n",
       "    'examples': [348.06, 12.61]},\n",
       "   'TotalCost': {'type': 'number',\n",
       "    'minimum': 0,\n",
       "    'description': 'Total cost for the transaction',\n",
       "    'examples': [2436.42, 214.37]},\n",
       "   'PurchaseDate': {'type': 'string',\n",
       "    'format': 'date',\n",
       "    'description': 'Date of purchase',\n",
       "    'examples': ['2024-04-25', '2024-06-11']},\n",
       "   'Supplier': {'type': 'string',\n",
       "    'enum': ['QuickDeliver Ltd.',\n",
       "     'TechMart Inc.',\n",
       "     'CloudSoft Corp.',\n",
       "     'FurniWorks Ltd.',\n",
       "     'OfficeSupplies Co.'],\n",
       "    'description': 'Name of the supplier',\n",
       "    'examples': ['QuickDeliver Ltd.', 'TechMart Inc.']},\n",
       "   'Buyer': {'type': 'string',\n",
       "    'description': 'Name of the buyer',\n",
       "    'examples': ['Todd James', 'Kelly Joseph']}},\n",
       "  'required': ['TransactionID',\n",
       "   'ItemName',\n",
       "   'Category',\n",
       "   'Quantity',\n",
       "   'UnitPrice',\n",
       "   'TotalCost',\n",
       "   'PurchaseDate',\n",
       "   'Supplier',\n",
       "   'Buyer'],\n",
       "  'additionalProperties': False}}"
      ]
     },
     "execution_count": 2,
     "metadata": {},
     "output_type": "execute_result"
    }
   ],
   "execution_count": 2
  },
  {
   "metadata": {
    "ExecuteTime": {
     "end_time": "2025-04-27T15:32:20.871032Z",
     "start_time": "2025-04-27T15:32:20.868395Z"
    }
   },
   "cell_type": "code",
   "source": "# in this schema, purchase date have the type date with the definition in json schema is standard format YYYY-MM-DD.",
   "id": "71be9e8be196e0db",
   "outputs": [],
   "execution_count": 3
  },
  {
   "metadata": {
    "ExecuteTime": {
     "end_time": "2025-04-27T15:32:20.917762Z",
     "start_time": "2025-04-27T15:32:20.913405Z"
    }
   },
   "cell_type": "code",
   "source": "incorrect_datetime_data.data['PurchaseDate'].head()",
   "id": "1c5f55a1d39522d6",
   "outputs": [
    {
     "data": {
      "text/plain": [
       "0               19/04/2024\n",
       "1               06/07/2024\n",
       "2                  10 9 24\n",
       "3    12:00:00 AM, 21/01/24\n",
       "4      2024/02/03 00:00:00\n",
       "Name: PurchaseDate, dtype: object"
      ]
     },
     "execution_count": 4,
     "metadata": {},
     "output_type": "execute_result"
    }
   ],
   "execution_count": 4
  },
  {
   "metadata": {
    "ExecuteTime": {
     "end_time": "2025-04-27T15:33:25.057626Z",
     "start_time": "2025-04-27T15:32:20.991620Z"
    }
   },
   "cell_type": "code",
   "source": [
    "list_improvements, error = incorrect_datetime_data.fix_datetime_error(column_list=['PurchaseDate'], few_shot_context=[\n",
    "    ('19/04/2024', '2024-04-19'),\n",
    "    ('12:00:00 AM, 21/01/24', '2024-01-21'),\n",
    "    ('10 9 24', '2024-09-10')\n",
    "])\n",
    "\n",
    "print(len(list_improvements))"
   ],
   "id": "cf80d2636ea2a792",
   "outputs": [
    {
     "name": "stdout",
     "output_type": "stream",
     "text": [
      "199\n"
     ]
    }
   ],
   "execution_count": 5
  },
  {
   "metadata": {
    "ExecuteTime": {
     "end_time": "2025-04-27T15:33:25.342177Z",
     "start_time": "2025-04-27T15:33:25.184337Z"
    }
   },
   "cell_type": "code",
   "source": [
    "incorrect_datetime_data.apply_improvements(list_improvements)\n",
    "incorrect_datetime_data.data.to_csv('../public/company-purchasing-dataset/cleaned_datetime_data.csv', index=False)\n",
    "\n",
    "from benchmark.benchmark import benchmark_data_cleaning\n",
    "\n",
    "result = benchmark_data_cleaning(\n",
    "    clean_path=\"../public/company-purchasing-dataset/spend_analysis_dataset.csv\",\n",
    "    messy_path=\"../public/company-purchasing-dataset/messy_datetime_spend_analysis_dataset.csv\",\n",
    "    cleaned_path=\"../public/company-purchasing-dataset/cleaned_datetime_data.csv\",\n",
    ")\n",
    "\n",
    "print(f\"Correction Rate: {result['correction_rate']:.2f}%\")\n",
    "print(f\"Remaining Errors: {result['remaining_errors']}\")\n",
    "print(f\"Corrected Errors: {result['corrected_errors']}\")"
   ],
   "id": "ab1dc321c09d7f2b",
   "outputs": [
    {
     "name": "stdout",
     "output_type": "stream",
     "text": [
      "Correction Rate: 38.80%\n",
      "Remaining Errors: 306\n",
      "Corrected Errors: 194\n"
     ]
    }
   ],
   "execution_count": 6
  }
 ],
 "metadata": {
  "kernelspec": {
   "display_name": "Python 3",
   "language": "python",
   "name": "python3"
  },
  "language_info": {
   "codemirror_mode": {
    "name": "ipython",
    "version": 2
   },
   "file_extension": ".py",
   "mimetype": "text/x-python",
   "name": "python",
   "nbconvert_exporter": "python",
   "pygments_lexer": "ipython2",
   "version": "2.7.6"
  }
 },
 "nbformat": 4,
 "nbformat_minor": 5
}
