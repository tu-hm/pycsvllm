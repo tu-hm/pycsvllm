{
 "cells": [
  {
   "cell_type": "code",
   "id": "initial_id",
   "metadata": {
    "collapsed": true,
    "ExecuteTime": {
     "end_time": "2025-04-24T10:25:06.769049Z",
     "start_time": "2025-04-24T10:25:06.765790Z"
    }
   },
   "source": [
    "import os\n",
    "\n",
    "from dotenv import load_dotenv\n",
    "from langchain_groq import ChatGroq\n",
    "from langchain_openai import ChatOpenAI\n",
    "from markdown_it.rules_block import reference\n",
    "\n",
    "print(\"Generating data\")"
   ],
   "outputs": [
    {
     "name": "stdout",
     "output_type": "stream",
     "text": [
      "Generating data\n"
     ]
    }
   ],
   "execution_count": 13
  },
  {
   "metadata": {
    "ExecuteTime": {
     "end_time": "2025-04-24T10:25:06.802101Z",
     "start_time": "2025-04-24T10:25:06.797739Z"
    }
   },
   "cell_type": "code",
   "source": [
    "from dotenv import load_dotenv\n",
    "\n",
    "load_dotenv()"
   ],
   "id": "65e1d71f373820cd",
   "outputs": [
    {
     "data": {
      "text/plain": [
       "True"
      ]
     },
     "execution_count": 14,
     "metadata": {},
     "output_type": "execute_result"
    }
   ],
   "execution_count": 14
  },
  {
   "metadata": {
    "ExecuteTime": {
     "end_time": "2025-04-24T10:25:06.866180Z",
     "start_time": "2025-04-24T10:25:06.859640Z"
    }
   },
   "cell_type": "code",
   "source": [
    "import os\n",
    "import pandas as pd\n",
    "\n",
    "OPENAI_API_KEY = os.getenv(\"OPENAI_API_KEY\")\n"
   ],
   "id": "27c421e15c70f68f",
   "outputs": [],
   "execution_count": 15
  },
  {
   "metadata": {
    "ExecuteTime": {
     "end_time": "2025-04-24T10:25:06.932460Z",
     "start_time": "2025-04-24T10:25:06.914884Z"
    }
   },
   "cell_type": "code",
   "source": [
    "df = pd.read_csv('../public/economy_delivery_data/real_data.csv')\n",
    "df.head()"
   ],
   "id": "f2145c793a34580a",
   "outputs": [
    {
     "data": {
      "text/plain": [
       "    Order ID Customer ID Platform Order Date & Time  Delivery Time (Minutes)  \\\n",
       "0  ORD000001    CUST2824  JioMart           19:29.5                       30   \n",
       "1  ORD000002    CUST1409  Blinkit           54:29.5                       16   \n",
       "2  ORD000003    CUST5506  JioMart           21:29.5                       25   \n",
       "3  ORD000004    CUST5012  JioMart           19:29.5                       42   \n",
       "4  ORD000005    CUST4657  Blinkit           49:29.5                       30   \n",
       "\n",
       "      Product Category  Order Value (INR)              Customer Feedback  \\\n",
       "0  Fruits & Vegetables                382  Fast delivery, great service!   \n",
       "1                Dairy                279            Quick and reliable!   \n",
       "2            Beverages                599      Items missing from order.   \n",
       "3            Beverages                946      Items missing from order.   \n",
       "4            Beverages                334  Fast delivery, great service!   \n",
       "\n",
       "   Service Rating Delivery Delay Refund Requested  \n",
       "0               5             No               No  \n",
       "1               5             No               No  \n",
       "2               2             No              Yes  \n",
       "3               2            Yes              Yes  \n",
       "4               5             No               No  "
      ],
      "text/html": [
       "<div>\n",
       "<style scoped>\n",
       "    .dataframe tbody tr th:only-of-type {\n",
       "        vertical-align: middle;\n",
       "    }\n",
       "\n",
       "    .dataframe tbody tr th {\n",
       "        vertical-align: top;\n",
       "    }\n",
       "\n",
       "    .dataframe thead th {\n",
       "        text-align: right;\n",
       "    }\n",
       "</style>\n",
       "<table border=\"1\" class=\"dataframe\">\n",
       "  <thead>\n",
       "    <tr style=\"text-align: right;\">\n",
       "      <th></th>\n",
       "      <th>Order ID</th>\n",
       "      <th>Customer ID</th>\n",
       "      <th>Platform</th>\n",
       "      <th>Order Date &amp; Time</th>\n",
       "      <th>Delivery Time (Minutes)</th>\n",
       "      <th>Product Category</th>\n",
       "      <th>Order Value (INR)</th>\n",
       "      <th>Customer Feedback</th>\n",
       "      <th>Service Rating</th>\n",
       "      <th>Delivery Delay</th>\n",
       "      <th>Refund Requested</th>\n",
       "    </tr>\n",
       "  </thead>\n",
       "  <tbody>\n",
       "    <tr>\n",
       "      <th>0</th>\n",
       "      <td>ORD000001</td>\n",
       "      <td>CUST2824</td>\n",
       "      <td>JioMart</td>\n",
       "      <td>19:29.5</td>\n",
       "      <td>30</td>\n",
       "      <td>Fruits &amp; Vegetables</td>\n",
       "      <td>382</td>\n",
       "      <td>Fast delivery, great service!</td>\n",
       "      <td>5</td>\n",
       "      <td>No</td>\n",
       "      <td>No</td>\n",
       "    </tr>\n",
       "    <tr>\n",
       "      <th>1</th>\n",
       "      <td>ORD000002</td>\n",
       "      <td>CUST1409</td>\n",
       "      <td>Blinkit</td>\n",
       "      <td>54:29.5</td>\n",
       "      <td>16</td>\n",
       "      <td>Dairy</td>\n",
       "      <td>279</td>\n",
       "      <td>Quick and reliable!</td>\n",
       "      <td>5</td>\n",
       "      <td>No</td>\n",
       "      <td>No</td>\n",
       "    </tr>\n",
       "    <tr>\n",
       "      <th>2</th>\n",
       "      <td>ORD000003</td>\n",
       "      <td>CUST5506</td>\n",
       "      <td>JioMart</td>\n",
       "      <td>21:29.5</td>\n",
       "      <td>25</td>\n",
       "      <td>Beverages</td>\n",
       "      <td>599</td>\n",
       "      <td>Items missing from order.</td>\n",
       "      <td>2</td>\n",
       "      <td>No</td>\n",
       "      <td>Yes</td>\n",
       "    </tr>\n",
       "    <tr>\n",
       "      <th>3</th>\n",
       "      <td>ORD000004</td>\n",
       "      <td>CUST5012</td>\n",
       "      <td>JioMart</td>\n",
       "      <td>19:29.5</td>\n",
       "      <td>42</td>\n",
       "      <td>Beverages</td>\n",
       "      <td>946</td>\n",
       "      <td>Items missing from order.</td>\n",
       "      <td>2</td>\n",
       "      <td>Yes</td>\n",
       "      <td>Yes</td>\n",
       "    </tr>\n",
       "    <tr>\n",
       "      <th>4</th>\n",
       "      <td>ORD000005</td>\n",
       "      <td>CUST4657</td>\n",
       "      <td>Blinkit</td>\n",
       "      <td>49:29.5</td>\n",
       "      <td>30</td>\n",
       "      <td>Beverages</td>\n",
       "      <td>334</td>\n",
       "      <td>Fast delivery, great service!</td>\n",
       "      <td>5</td>\n",
       "      <td>No</td>\n",
       "      <td>No</td>\n",
       "    </tr>\n",
       "  </tbody>\n",
       "</table>\n",
       "</div>"
      ]
     },
     "execution_count": 16,
     "metadata": {},
     "output_type": "execute_result"
    }
   ],
   "execution_count": 16
  },
  {
   "metadata": {
    "ExecuteTime": {
     "end_time": "2025-04-24T10:25:07.013535Z",
     "start_time": "2025-04-24T10:25:07.011352Z"
    }
   },
   "cell_type": "code",
   "source": [
    "def gen_product_name():\n",
    "    pass"
   ],
   "id": "b37cc60409e7af4d",
   "outputs": [],
   "execution_count": 17
  },
  {
   "metadata": {
    "ExecuteTime": {
     "end_time": "2025-04-24T10:25:07.058353Z",
     "start_time": "2025-04-24T10:25:07.054991Z"
    }
   },
   "cell_type": "code",
   "source": "df1 = df.iloc[20:23]",
   "id": "96c8a25a4a1424ca",
   "outputs": [],
   "execution_count": 18
  },
  {
   "metadata": {
    "ExecuteTime": {
     "end_time": "2025-04-24T10:25:38.647559Z",
     "start_time": "2025-04-24T10:25:38.639270Z"
    }
   },
   "cell_type": "code",
   "source": "df1.to_csv(index=True)",
   "id": "c5edf267165f6ac1",
   "outputs": [
    {
     "data": {
      "text/plain": [
       "',Order ID,Customer ID,Platform,Order Date & Time,Delivery Time (Minutes),Product Category,Order Value (INR),Customer Feedback,Service Rating,Delivery Delay,Refund Requested\\n20,ORD000021,CUST4611,Blinkit,44:29.5,10,Beverages,789,Wrong item delivered.,1,No,Yes\\n21,ORD000022,CUST8359,Blinkit,57:29.5,25,Beverages,739,Delivery person was rude.,2,No,Yes\\n22,ORD000023,CUST5557,Swiggy Instamart,01:29.5,33,Beverages,486,Good quality products.,4,No,No\\n'"
      ]
     },
     "execution_count": 20,
     "metadata": {},
     "output_type": "execute_result"
    }
   ],
   "execution_count": 20
  },
  {
   "metadata": {},
   "cell_type": "markdown",
   "source": "",
   "id": "fb6813647d34db5"
  },
  {
   "metadata": {
    "ExecuteTime": {
     "end_time": "2025-04-24T10:25:07.277700929Z",
     "start_time": "2025-04-24T09:24:55.455949Z"
    }
   },
   "cell_type": "code",
   "source": "df2.to_csv(index=True)",
   "id": "61905cb5b15a829",
   "outputs": [
    {
     "data": {
      "text/plain": [
       "',Delivery Time (Minutes)\\n20,10\\n21,25\\n22,33\\n'"
      ]
     },
     "execution_count": 11,
     "metadata": {},
     "output_type": "execute_result"
    }
   ],
   "execution_count": 11
  }
 ],
 "metadata": {
  "kernelspec": {
   "display_name": "Python 3",
   "language": "python",
   "name": "python3"
  },
  "language_info": {
   "codemirror_mode": {
    "name": "ipython",
    "version": 2
   },
   "file_extension": ".py",
   "mimetype": "text/x-python",
   "name": "python",
   "nbconvert_exporter": "python",
   "pygments_lexer": "ipython2",
   "version": "2.7.6"
  }
 },
 "nbformat": 4,
 "nbformat_minor": 5
}
