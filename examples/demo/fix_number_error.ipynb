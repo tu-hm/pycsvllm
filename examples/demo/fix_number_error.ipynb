{
 "cells": [
  {
   "cell_type": "code",
   "id": "initial_id",
   "metadata": {
    "collapsed": true,
    "ExecuteTime": {
     "end_time": "2025-04-26T09:04:55.247842Z",
     "start_time": "2025-04-26T09:04:55.245575Z"
    }
   },
   "source": "from src.file_processing.csv import CSVLoader\n",
   "outputs": [],
   "execution_count": 6
  },
  {
   "metadata": {
    "ExecuteTime": {
     "end_time": "2025-04-26T09:05:09.368056Z",
     "start_time": "2025-04-26T09:04:55.295850Z"
    }
   },
   "cell_type": "code",
   "source": [
    "original_data = CSVLoader('../public/book/small_book_data.csv')\n",
    "schema = original_data.generate_schema().json_schema\n",
    "\n",
    "messy_data = CSVLoader('../public/book/book_messy_data_number.csv')\n",
    "messy_data.set_schema(schema)"
   ],
   "id": "c28409460bffdba9",
   "outputs": [],
   "execution_count": 7
  },
  {
   "metadata": {
    "ExecuteTime": {
     "end_time": "2025-04-26T09:09:20.329634Z",
     "start_time": "2025-04-26T09:05:09.384369Z"
    }
   },
   "cell_type": "code",
   "source": [
    "improvements, error = messy_data.fix_number_error(\n",
    "    column_list=['original_price', 'current_price'],\n",
    "    formation=[('original_price', '123456'), ('current_price', '123456')],\n",
    "    batch_size=100,\n",
    "    few_shot_context=[\n",
    "        ('1234.00', '1234'),\n",
    "        ('135000,000', '135000'),\n",
    "        ('4.00e+04', '40000'),\n",
    "        ('9.90e+04', '99000')\n",
    "    ]\n",
    ")\n",
    "print(len(improvements))\n",
    "print(len(error))\n"
   ],
   "id": "a4d44b240943b56a",
   "outputs": [
    {
     "name": "stdout",
     "output_type": "stream",
     "text": [
      "399\n",
      "0\n"
     ]
    }
   ],
   "execution_count": 8
  },
  {
   "metadata": {
    "ExecuteTime": {
     "end_time": "2025-04-26T09:09:20.587069Z",
     "start_time": "2025-04-26T09:09:20.390448Z"
    }
   },
   "cell_type": "code",
   "source": [
    "messy_data.apply_improvements(improvements)\n",
    "messy_data.data.to_csv('../public/book/book_messy_data_number_fixed.csv', index=False)"
   ],
   "id": "4393926d4d3731b",
   "outputs": [],
   "execution_count": 9
  },
  {
   "metadata": {
    "ExecuteTime": {
     "end_time": "2025-04-26T09:09:20.784882Z",
     "start_time": "2025-04-26T09:09:20.593192Z"
    }
   },
   "cell_type": "code",
   "source": [
    "from benchmark.benchmark import benchmark_data_cleaning\n",
    "\n",
    "result = benchmark_data_cleaning(\n",
    "    clean_path=\"../public/book/book_messy_data_number_fixed.csv\",\n",
    "    messy_path=\"../public/book/book_messy_data_number.csv\",\n",
    "    cleaned_path=\"../public/book/small_book_data.csv\",\n",
    ")\n",
    "\n",
    "print(f\"Correction Rate: {result['correction_rate']:.2f}%\")\n",
    "print(f\"Remaining Errors: {result['remaining_errors']}\")\n",
    "print(f\"Corrected Errors: {result['corrected_errors']}\")"
   ],
   "id": "e39bcdb2e7d1d37e",
   "outputs": [
    {
     "name": "stdout",
     "output_type": "stream",
     "text": [
      "Correction Rate: 62.96%\n",
      "Remaining Errors: 240\n",
      "Corrected Errors: 408\n"
     ]
    }
   ],
   "execution_count": 10
  }
 ],
 "metadata": {
  "kernelspec": {
   "display_name": "Python 3",
   "language": "python",
   "name": "python3"
  },
  "language_info": {
   "codemirror_mode": {
    "name": "ipython",
    "version": 2
   },
   "file_extension": ".py",
   "mimetype": "text/x-python",
   "name": "python",
   "nbconvert_exporter": "python",
   "pygments_lexer": "ipython2",
   "version": "2.7.6"
  }
 },
 "nbformat": 4,
 "nbformat_minor": 5
}
