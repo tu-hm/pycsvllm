{
 "cells": [
  {
   "cell_type": "code",
   "id": "initial_id",
   "metadata": {
    "collapsed": true,
    "ExecuteTime": {
     "end_time": "2025-04-28T09:35:42.672123Z",
     "start_time": "2025-04-28T09:35:42.327624Z"
    }
   },
   "source": "import pandas as pd",
   "outputs": [],
   "execution_count": 1
  },
  {
   "metadata": {
    "ExecuteTime": {
     "end_time": "2025-04-28T09:35:42.718593Z",
     "start_time": "2025-04-28T09:35:42.680320Z"
    }
   },
   "cell_type": "code",
   "source": [
    "df = pd.read_csv('book_data.csv')\n",
    "df.head()"
   ],
   "id": "e3a5157db3ed26a8",
   "outputs": [
    {
     "data": {
      "text/plain": [
       "   product_id                            title                    authors  \\\n",
       "0    74021317             Cây Cam Ngọt Của Tôi  José Mauro de Vasconcelos   \n",
       "1    74021317             Cây Cam Ngọt Của Tôi  José Mauro de Vasconcelos   \n",
       "2   184466860  Hành Tinh Của Một Kẻ Nghĩ Nhiều       Nguyễn Đoàn Minh Thư   \n",
       "3    73787185         Những Tù Nhân Của Địa Lý               Tim Marshall   \n",
       "4    52789367       Nhà Giả Kim (Tái Bản 2020)               Paulo Coelho   \n",
       "\n",
       "   original_price  current_price  quantity                    category  \\\n",
       "0          108000          64800   53075.0                 Tiểu Thuyết   \n",
       "1          108000          64800   53075.0                 Tiểu Thuyết   \n",
       "2           86000          59900    7929.0  Sách tư duy - Kỹ năng sống   \n",
       "3          210000         126000   17896.0               Lĩnh vực khác   \n",
       "4           79000          47400   24668.0          Tác phẩm kinh điển   \n",
       "\n",
       "   n_review  avg_rating pages              manufacturer  \\\n",
       "0     11481         5.0   244  Nhà Xuất Bản Hội Nhà Văn   \n",
       "1     11481         5.0   244  Nhà Xuất Bản Hội Nhà Văn   \n",
       "2       780         4.8   184     Nhà Xuất Bản Thế Giới   \n",
       "3      3623         4.8   430  Nhà Xuất Bản Hội Nhà Văn   \n",
       "4      5131         5.0   228       Nhà Xuất Bản Hà Nội   \n",
       "\n",
       "                                          cover_link  \n",
       "0  https://salt.tikicdn.com/ts/product/5e/18/24/2...  \n",
       "1  https://salt.tikicdn.com/ts/product/5e/18/24/2...  \n",
       "2  https://salt.tikicdn.com/ts/product/d7/99/24/1...  \n",
       "3  https://salt.tikicdn.com/ts/product/8d/96/9e/c...  \n",
       "4  https://salt.tikicdn.com/ts/product/45/3b/fc/a...  "
      ],
      "text/html": [
       "<div>\n",
       "<style scoped>\n",
       "    .dataframe tbody tr th:only-of-type {\n",
       "        vertical-align: middle;\n",
       "    }\n",
       "\n",
       "    .dataframe tbody tr th {\n",
       "        vertical-align: top;\n",
       "    }\n",
       "\n",
       "    .dataframe thead th {\n",
       "        text-align: right;\n",
       "    }\n",
       "</style>\n",
       "<table border=\"1\" class=\"dataframe\">\n",
       "  <thead>\n",
       "    <tr style=\"text-align: right;\">\n",
       "      <th></th>\n",
       "      <th>product_id</th>\n",
       "      <th>title</th>\n",
       "      <th>authors</th>\n",
       "      <th>original_price</th>\n",
       "      <th>current_price</th>\n",
       "      <th>quantity</th>\n",
       "      <th>category</th>\n",
       "      <th>n_review</th>\n",
       "      <th>avg_rating</th>\n",
       "      <th>pages</th>\n",
       "      <th>manufacturer</th>\n",
       "      <th>cover_link</th>\n",
       "    </tr>\n",
       "  </thead>\n",
       "  <tbody>\n",
       "    <tr>\n",
       "      <th>0</th>\n",
       "      <td>74021317</td>\n",
       "      <td>Cây Cam Ngọt Của Tôi</td>\n",
       "      <td>José Mauro de Vasconcelos</td>\n",
       "      <td>108000</td>\n",
       "      <td>64800</td>\n",
       "      <td>53075.0</td>\n",
       "      <td>Tiểu Thuyết</td>\n",
       "      <td>11481</td>\n",
       "      <td>5.0</td>\n",
       "      <td>244</td>\n",
       "      <td>Nhà Xuất Bản Hội Nhà Văn</td>\n",
       "      <td>https://salt.tikicdn.com/ts/product/5e/18/24/2...</td>\n",
       "    </tr>\n",
       "    <tr>\n",
       "      <th>1</th>\n",
       "      <td>74021317</td>\n",
       "      <td>Cây Cam Ngọt Của Tôi</td>\n",
       "      <td>José Mauro de Vasconcelos</td>\n",
       "      <td>108000</td>\n",
       "      <td>64800</td>\n",
       "      <td>53075.0</td>\n",
       "      <td>Tiểu Thuyết</td>\n",
       "      <td>11481</td>\n",
       "      <td>5.0</td>\n",
       "      <td>244</td>\n",
       "      <td>Nhà Xuất Bản Hội Nhà Văn</td>\n",
       "      <td>https://salt.tikicdn.com/ts/product/5e/18/24/2...</td>\n",
       "    </tr>\n",
       "    <tr>\n",
       "      <th>2</th>\n",
       "      <td>184466860</td>\n",
       "      <td>Hành Tinh Của Một Kẻ Nghĩ Nhiều</td>\n",
       "      <td>Nguyễn Đoàn Minh Thư</td>\n",
       "      <td>86000</td>\n",
       "      <td>59900</td>\n",
       "      <td>7929.0</td>\n",
       "      <td>Sách tư duy - Kỹ năng sống</td>\n",
       "      <td>780</td>\n",
       "      <td>4.8</td>\n",
       "      <td>184</td>\n",
       "      <td>Nhà Xuất Bản Thế Giới</td>\n",
       "      <td>https://salt.tikicdn.com/ts/product/d7/99/24/1...</td>\n",
       "    </tr>\n",
       "    <tr>\n",
       "      <th>3</th>\n",
       "      <td>73787185</td>\n",
       "      <td>Những Tù Nhân Của Địa Lý</td>\n",
       "      <td>Tim Marshall</td>\n",
       "      <td>210000</td>\n",
       "      <td>126000</td>\n",
       "      <td>17896.0</td>\n",
       "      <td>Lĩnh vực khác</td>\n",
       "      <td>3623</td>\n",
       "      <td>4.8</td>\n",
       "      <td>430</td>\n",
       "      <td>Nhà Xuất Bản Hội Nhà Văn</td>\n",
       "      <td>https://salt.tikicdn.com/ts/product/8d/96/9e/c...</td>\n",
       "    </tr>\n",
       "    <tr>\n",
       "      <th>4</th>\n",
       "      <td>52789367</td>\n",
       "      <td>Nhà Giả Kim (Tái Bản 2020)</td>\n",
       "      <td>Paulo Coelho</td>\n",
       "      <td>79000</td>\n",
       "      <td>47400</td>\n",
       "      <td>24668.0</td>\n",
       "      <td>Tác phẩm kinh điển</td>\n",
       "      <td>5131</td>\n",
       "      <td>5.0</td>\n",
       "      <td>228</td>\n",
       "      <td>Nhà Xuất Bản Hà Nội</td>\n",
       "      <td>https://salt.tikicdn.com/ts/product/45/3b/fc/a...</td>\n",
       "    </tr>\n",
       "  </tbody>\n",
       "</table>\n",
       "</div>"
      ]
     },
     "execution_count": 2,
     "metadata": {},
     "output_type": "execute_result"
    }
   ],
   "execution_count": 2
  },
  {
   "metadata": {
    "ExecuteTime": {
     "end_time": "2025-04-28T09:35:42.875552Z",
     "start_time": "2025-04-28T09:35:42.872590Z"
    }
   },
   "cell_type": "code",
   "source": [
    "def stratified_sample(df, by, *, n=None, frac=None, replace=False, random_state=None):\n",
    "    if (n is None) == (frac is None):\n",
    "        raise ValueError(\"Specify exactly one of `n` or `frac`.\")\n",
    "    return (\n",
    "        df.groupby(by, group_keys=False)\n",
    "          .apply(lambda g: g.sample(n=n, frac=frac, replace=replace, random_state=random_state))\n",
    "          .reset_index(drop=True)\n",
    "    )"
   ],
   "id": "c3c8dffc0c00f675",
   "outputs": [],
   "execution_count": 3
  },
  {
   "metadata": {
    "ExecuteTime": {
     "end_time": "2025-04-28T09:35:42.895794Z",
     "start_time": "2025-04-28T09:35:42.892388Z"
    }
   },
   "cell_type": "code",
   "source": "df = df.sample(n=400, replace=False, random_state=42)",
   "id": "28284cc8d4f925de",
   "outputs": [],
   "execution_count": 4
  },
  {
   "metadata": {
    "ExecuteTime": {
     "end_time": "2025-04-28T09:35:42.941021Z",
     "start_time": "2025-04-28T09:35:42.937957Z"
    }
   },
   "cell_type": "code",
   "source": "df = pd.concat([df], ignore_index=True)",
   "id": "3680c6a896c61b93",
   "outputs": [],
   "execution_count": 5
  },
  {
   "metadata": {
    "ExecuteTime": {
     "end_time": "2025-04-28T09:35:42.983533Z",
     "start_time": "2025-04-28T09:35:42.975443Z"
    }
   },
   "cell_type": "code",
   "source": "df.to_csv('small_book_data.csv', index=False)",
   "id": "cf6d42a776c0950f",
   "outputs": [],
   "execution_count": 6
  },
  {
   "metadata": {
    "ExecuteTime": {
     "end_time": "2025-04-28T09:35:43.030398Z",
     "start_time": "2025-04-28T09:35:43.026811Z"
    }
   },
   "cell_type": "code",
   "source": [
    "def generate_reference_for_columns(df: pd.DataFrame, columns: list[str]) -> pd.DataFrame:\n",
    "    reference_data = []\n",
    "    for col in columns:\n",
    "        unique_values = df[col].dropna().unique().tolist()\n",
    "        reference_data.append({'column_name': col, 'value': unique_values})\n",
    "\n",
    "    return pd.DataFrame(reference_data)"
   ],
   "id": "e5ea90567a9bc82a",
   "outputs": [],
   "execution_count": 7
  },
  {
   "metadata": {
    "ExecuteTime": {
     "end_time": "2025-04-28T09:35:43.081087Z",
     "start_time": "2025-04-28T09:35:43.076754Z"
    }
   },
   "cell_type": "code",
   "source": "ref_df = generate_reference_for_columns(df, ['category', 'manufacturer'])",
   "id": "27549f5a11c48fdb",
   "outputs": [],
   "execution_count": 8
  },
  {
   "metadata": {
    "ExecuteTime": {
     "end_time": "2025-04-28T09:35:43.128085Z",
     "start_time": "2025-04-28T09:35:43.124503Z"
    }
   },
   "cell_type": "code",
   "source": "ref_df.to_csv('reference_data.csv', index=False)",
   "id": "525e41fe928caefb",
   "outputs": [],
   "execution_count": 9
  },
  {
   "metadata": {
    "ExecuteTime": {
     "end_time": "2025-04-28T09:35:43.269393Z",
     "start_time": "2025-04-28T09:35:43.174055Z"
    }
   },
   "cell_type": "code",
   "source": [
    "from src.file_processing.generate_messy_data import make_messy_data_number, format_number_random\n",
    "\n",
    "format_number_random(25)\n",
    "\n",
    "messy_df = make_messy_data_number(df, ['original_price', 'current_price'])\n",
    "messy_df['original_price'].head()"
   ],
   "id": "15fe4f4200d5ac8a",
   "outputs": [
    {
     "data": {
      "text/plain": [
       "0                9.90e+04\n",
       "1                5.00e+04\n",
       "2                135000.0\n",
       "3    ninety-nine thousand\n",
       "4                8.50e+04\n",
       "Name: original_price, dtype: object"
      ]
     },
     "execution_count": 10,
     "metadata": {},
     "output_type": "execute_result"
    }
   ],
   "execution_count": 10
  },
  {
   "metadata": {
    "ExecuteTime": {
     "end_time": "2025-04-28T09:35:43.296848Z",
     "start_time": "2025-04-28T09:35:43.286091Z"
    }
   },
   "cell_type": "code",
   "source": "messy_df.to_csv('book_messy_data_number.csv', index=False)",
   "id": "5ac82cae92c1ee09",
   "outputs": [],
   "execution_count": 11
  }
 ],
 "metadata": {
  "kernelspec": {
   "display_name": "Python 3",
   "language": "python",
   "name": "python3"
  },
  "language_info": {
   "codemirror_mode": {
    "name": "ipython",
    "version": 2
   },
   "file_extension": ".py",
   "mimetype": "text/x-python",
   "name": "python",
   "nbconvert_exporter": "python",
   "pygments_lexer": "ipython2",
   "version": "2.7.6"
  }
 },
 "nbformat": 4,
 "nbformat_minor": 5
}
