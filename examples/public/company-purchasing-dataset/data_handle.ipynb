{
 "cells": [
  {
   "metadata": {
    "ExecuteTime": {
     "end_time": "2025-04-28T01:43:17.896519Z",
     "start_time": "2025-04-28T01:43:17.584208Z"
    }
   },
   "cell_type": "code",
   "source": "import pandas as pd\n",
   "id": "75e8c2ddea961fac",
   "outputs": [],
   "execution_count": 1
  },
  {
   "metadata": {
    "ExecuteTime": {
     "end_time": "2025-04-28T01:43:18.994972Z",
     "start_time": "2025-04-28T01:43:18.973367Z"
    }
   },
   "cell_type": "code",
   "source": [
    "df = pd.read_csv('spend_analysis_dataset.csv')\n",
    "df.head()"
   ],
   "id": "26e0ae047a183830",
   "outputs": [
    {
     "data": {
      "text/plain": [
       "  TransactionID                 ItemName         Category  Quantity  \\\n",
       "0        TXN001               Desk Chair        Furniture        10   \n",
       "1        TXN002                  Stapler  Office Supplies        16   \n",
       "2        TXN003  Annual Software License         Software         1   \n",
       "3        TXN004                  Notepad       Stationery        13   \n",
       "4        TXN005                  Notepad       Stationery        19   \n",
       "\n",
       "   UnitPrice  TotalCost PurchaseDate         Supplier            Buyer  \n",
       "0     113.15    1131.50   2024-04-19    TechMart Inc.     Kelly Joseph  \n",
       "1      12.62     201.92   2024-07-06  CloudSoft Corp.     Kelly Joseph  \n",
       "2    5649.34    5649.34   2024-09-10    TechMart Inc.     Kelly Joseph  \n",
       "3       2.92      37.96   2024-01-21  FurniWorks Ltd.     Luis Holland  \n",
       "4       1.39      26.41   2024-02-03    TechMart Inc.  Cynthia Jenkins  "
      ],
      "text/html": [
       "<div>\n",
       "<style scoped>\n",
       "    .dataframe tbody tr th:only-of-type {\n",
       "        vertical-align: middle;\n",
       "    }\n",
       "\n",
       "    .dataframe tbody tr th {\n",
       "        vertical-align: top;\n",
       "    }\n",
       "\n",
       "    .dataframe thead th {\n",
       "        text-align: right;\n",
       "    }\n",
       "</style>\n",
       "<table border=\"1\" class=\"dataframe\">\n",
       "  <thead>\n",
       "    <tr style=\"text-align: right;\">\n",
       "      <th></th>\n",
       "      <th>TransactionID</th>\n",
       "      <th>ItemName</th>\n",
       "      <th>Category</th>\n",
       "      <th>Quantity</th>\n",
       "      <th>UnitPrice</th>\n",
       "      <th>TotalCost</th>\n",
       "      <th>PurchaseDate</th>\n",
       "      <th>Supplier</th>\n",
       "      <th>Buyer</th>\n",
       "    </tr>\n",
       "  </thead>\n",
       "  <tbody>\n",
       "    <tr>\n",
       "      <th>0</th>\n",
       "      <td>TXN001</td>\n",
       "      <td>Desk Chair</td>\n",
       "      <td>Furniture</td>\n",
       "      <td>10</td>\n",
       "      <td>113.15</td>\n",
       "      <td>1131.50</td>\n",
       "      <td>2024-04-19</td>\n",
       "      <td>TechMart Inc.</td>\n",
       "      <td>Kelly Joseph</td>\n",
       "    </tr>\n",
       "    <tr>\n",
       "      <th>1</th>\n",
       "      <td>TXN002</td>\n",
       "      <td>Stapler</td>\n",
       "      <td>Office Supplies</td>\n",
       "      <td>16</td>\n",
       "      <td>12.62</td>\n",
       "      <td>201.92</td>\n",
       "      <td>2024-07-06</td>\n",
       "      <td>CloudSoft Corp.</td>\n",
       "      <td>Kelly Joseph</td>\n",
       "    </tr>\n",
       "    <tr>\n",
       "      <th>2</th>\n",
       "      <td>TXN003</td>\n",
       "      <td>Annual Software License</td>\n",
       "      <td>Software</td>\n",
       "      <td>1</td>\n",
       "      <td>5649.34</td>\n",
       "      <td>5649.34</td>\n",
       "      <td>2024-09-10</td>\n",
       "      <td>TechMart Inc.</td>\n",
       "      <td>Kelly Joseph</td>\n",
       "    </tr>\n",
       "    <tr>\n",
       "      <th>3</th>\n",
       "      <td>TXN004</td>\n",
       "      <td>Notepad</td>\n",
       "      <td>Stationery</td>\n",
       "      <td>13</td>\n",
       "      <td>2.92</td>\n",
       "      <td>37.96</td>\n",
       "      <td>2024-01-21</td>\n",
       "      <td>FurniWorks Ltd.</td>\n",
       "      <td>Luis Holland</td>\n",
       "    </tr>\n",
       "    <tr>\n",
       "      <th>4</th>\n",
       "      <td>TXN005</td>\n",
       "      <td>Notepad</td>\n",
       "      <td>Stationery</td>\n",
       "      <td>19</td>\n",
       "      <td>1.39</td>\n",
       "      <td>26.41</td>\n",
       "      <td>2024-02-03</td>\n",
       "      <td>TechMart Inc.</td>\n",
       "      <td>Cynthia Jenkins</td>\n",
       "    </tr>\n",
       "  </tbody>\n",
       "</table>\n",
       "</div>"
      ]
     },
     "execution_count": 2,
     "metadata": {},
     "output_type": "execute_result"
    }
   ],
   "execution_count": 2
  },
  {
   "metadata": {
    "ExecuteTime": {
     "end_time": "2025-04-26T16:21:08.268082Z",
     "start_time": "2025-04-26T16:21:08.088922Z"
    }
   },
   "cell_type": "code",
   "source": [
    "from src.file_processing.generate_messy_data import make_messy_data_datetime\n",
    "\n",
    "messy_df = make_messy_data_datetime(df, ['PurchaseDate'])\n",
    "messy_df.to_csv('messy_datetime_spend_analysis_dataset.csv', index=False)"
   ],
   "id": "cf2084e11d381371",
   "outputs": [],
   "execution_count": 3
  },
  {
   "metadata": {
    "ExecuteTime": {
     "end_time": "2025-04-28T01:43:22.190894Z",
     "start_time": "2025-04-28T01:43:21.949738Z"
    }
   },
   "cell_type": "code",
   "source": [
    "from src.file_processing.generate_messy_data import make_messy_data_string\n",
    "\n",
    "messy_pattern_df = make_messy_data_string(df, ['TransactionID', 'Category'])\n",
    "messy_pattern_df.to_csv('messy_pattern_spend_analysis_dataset.csv', index=False)"
   ],
   "id": "6138dd520dc8431a",
   "outputs": [],
   "execution_count": 3
  }
 ],
 "metadata": {
  "kernelspec": {
   "name": "python3",
   "language": "python",
   "display_name": "Python 3 (ipykernel)"
  }
 },
 "nbformat": 5,
 "nbformat_minor": 9
}
