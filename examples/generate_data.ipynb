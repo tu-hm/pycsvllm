{
 "cells": [
  {
   "cell_type": "code",
   "id": "initial_id",
   "metadata": {
    "collapsed": true,
    "ExecuteTime": {
     "end_time": "2025-04-13T05:19:50.668926Z",
     "start_time": "2025-04-13T05:19:49.313743Z"
    }
   },
   "source": [
    "import os\n",
    "\n",
    "from dotenv import load_dotenv\n",
    "from langchain_groq import ChatGroq\n",
    "from langchain_openai import ChatOpenAI\n",
    "from markdown_it.rules_block import reference\n",
    "\n",
    "print(\"Generating data\")"
   ],
   "outputs": [
    {
     "name": "stdout",
     "output_type": "stream",
     "text": [
      "Generating data\n"
     ]
    }
   ],
   "execution_count": 1
  },
  {
   "metadata": {
    "ExecuteTime": {
     "end_time": "2025-04-13T05:19:50.724449Z",
     "start_time": "2025-04-13T05:19:50.717027Z"
    }
   },
   "cell_type": "code",
   "source": [
    "from dotenv import load_dotenv\n",
    "\n",
    "load_dotenv()"
   ],
   "id": "65e1d71f373820cd",
   "outputs": [
    {
     "data": {
      "text/plain": [
       "True"
      ]
     },
     "execution_count": 2,
     "metadata": {},
     "output_type": "execute_result"
    }
   ],
   "execution_count": 2
  },
  {
   "metadata": {
    "ExecuteTime": {
     "end_time": "2025-04-13T05:19:51.299667Z",
     "start_time": "2025-04-13T05:19:50.850272Z"
    }
   },
   "cell_type": "code",
   "source": [
    "import os\n",
    "import pandas as pd\n",
    "\n",
    "OPENAI_API_KEY = os.getenv(\"OPENAI_API_KEY\")\n"
   ],
   "id": "27c421e15c70f68f",
   "outputs": [],
   "execution_count": 3
  },
  {
   "metadata": {
    "ExecuteTime": {
     "end_time": "2025-04-13T05:19:51.337346Z",
     "start_time": "2025-04-13T05:19:51.315838Z"
    }
   },
   "cell_type": "code",
   "source": [
    "df = pd.read_csv('public/economy_delivery_data/real_data.csv')\n",
    "df.head()"
   ],
   "id": "f2145c793a34580a",
   "outputs": [
    {
     "data": {
      "text/plain": [
       "    Order ID Customer ID Platform Order Date & Time  Delivery Time (Minutes)  \\\n",
       "0  ORD000001    CUST2824  JioMart           19:29.5                       30   \n",
       "1  ORD000002    CUST1409  Blinkit           54:29.5                       16   \n",
       "2  ORD000003    CUST5506  JioMart           21:29.5                       25   \n",
       "3  ORD000004    CUST5012  JioMart           19:29.5                       42   \n",
       "4  ORD000005    CUST4657  Blinkit           49:29.5                       30   \n",
       "\n",
       "      Product Category  Order Value (INR)              Customer Feedback  \\\n",
       "0  Fruits & Vegetables                382  Fast delivery, great service!   \n",
       "1                Dairy                279            Quick and reliable!   \n",
       "2            Beverages                599      Items missing from order.   \n",
       "3            Beverages                946      Items missing from order.   \n",
       "4            Beverages                334  Fast delivery, great service!   \n",
       "\n",
       "   Service Rating Delivery Delay Refund Requested  \n",
       "0               5             No               No  \n",
       "1               5             No               No  \n",
       "2               2             No              Yes  \n",
       "3               2            Yes              Yes  \n",
       "4               5             No               No  "
      ],
      "text/html": [
       "<div>\n",
       "<style scoped>\n",
       "    .dataframe tbody tr th:only-of-type {\n",
       "        vertical-align: middle;\n",
       "    }\n",
       "\n",
       "    .dataframe tbody tr th {\n",
       "        vertical-align: top;\n",
       "    }\n",
       "\n",
       "    .dataframe thead th {\n",
       "        text-align: right;\n",
       "    }\n",
       "</style>\n",
       "<table border=\"1\" class=\"dataframe\">\n",
       "  <thead>\n",
       "    <tr style=\"text-align: right;\">\n",
       "      <th></th>\n",
       "      <th>Order ID</th>\n",
       "      <th>Customer ID</th>\n",
       "      <th>Platform</th>\n",
       "      <th>Order Date &amp; Time</th>\n",
       "      <th>Delivery Time (Minutes)</th>\n",
       "      <th>Product Category</th>\n",
       "      <th>Order Value (INR)</th>\n",
       "      <th>Customer Feedback</th>\n",
       "      <th>Service Rating</th>\n",
       "      <th>Delivery Delay</th>\n",
       "      <th>Refund Requested</th>\n",
       "    </tr>\n",
       "  </thead>\n",
       "  <tbody>\n",
       "    <tr>\n",
       "      <th>0</th>\n",
       "      <td>ORD000001</td>\n",
       "      <td>CUST2824</td>\n",
       "      <td>JioMart</td>\n",
       "      <td>19:29.5</td>\n",
       "      <td>30</td>\n",
       "      <td>Fruits &amp; Vegetables</td>\n",
       "      <td>382</td>\n",
       "      <td>Fast delivery, great service!</td>\n",
       "      <td>5</td>\n",
       "      <td>No</td>\n",
       "      <td>No</td>\n",
       "    </tr>\n",
       "    <tr>\n",
       "      <th>1</th>\n",
       "      <td>ORD000002</td>\n",
       "      <td>CUST1409</td>\n",
       "      <td>Blinkit</td>\n",
       "      <td>54:29.5</td>\n",
       "      <td>16</td>\n",
       "      <td>Dairy</td>\n",
       "      <td>279</td>\n",
       "      <td>Quick and reliable!</td>\n",
       "      <td>5</td>\n",
       "      <td>No</td>\n",
       "      <td>No</td>\n",
       "    </tr>\n",
       "    <tr>\n",
       "      <th>2</th>\n",
       "      <td>ORD000003</td>\n",
       "      <td>CUST5506</td>\n",
       "      <td>JioMart</td>\n",
       "      <td>21:29.5</td>\n",
       "      <td>25</td>\n",
       "      <td>Beverages</td>\n",
       "      <td>599</td>\n",
       "      <td>Items missing from order.</td>\n",
       "      <td>2</td>\n",
       "      <td>No</td>\n",
       "      <td>Yes</td>\n",
       "    </tr>\n",
       "    <tr>\n",
       "      <th>3</th>\n",
       "      <td>ORD000004</td>\n",
       "      <td>CUST5012</td>\n",
       "      <td>JioMart</td>\n",
       "      <td>19:29.5</td>\n",
       "      <td>42</td>\n",
       "      <td>Beverages</td>\n",
       "      <td>946</td>\n",
       "      <td>Items missing from order.</td>\n",
       "      <td>2</td>\n",
       "      <td>Yes</td>\n",
       "      <td>Yes</td>\n",
       "    </tr>\n",
       "    <tr>\n",
       "      <th>4</th>\n",
       "      <td>ORD000005</td>\n",
       "      <td>CUST4657</td>\n",
       "      <td>Blinkit</td>\n",
       "      <td>49:29.5</td>\n",
       "      <td>30</td>\n",
       "      <td>Beverages</td>\n",
       "      <td>334</td>\n",
       "      <td>Fast delivery, great service!</td>\n",
       "      <td>5</td>\n",
       "      <td>No</td>\n",
       "      <td>No</td>\n",
       "    </tr>\n",
       "  </tbody>\n",
       "</table>\n",
       "</div>"
      ]
     },
     "execution_count": 4,
     "metadata": {},
     "output_type": "execute_result"
    }
   ],
   "execution_count": 4
  },
  {
   "metadata": {
    "ExecuteTime": {
     "end_time": "2025-04-13T05:19:51.395557Z",
     "start_time": "2025-04-13T05:19:51.387519Z"
    }
   },
   "cell_type": "code",
   "source": [
    "def gen_product_name():\n",
    "    pass"
   ],
   "id": "b37cc60409e7af4d",
   "outputs": [],
   "execution_count": 5
  },
  {
   "metadata": {
    "ExecuteTime": {
     "end_time": "2025-04-13T05:19:51.726540Z",
     "start_time": "2025-04-13T05:19:51.441828Z"
    }
   },
   "cell_type": "code",
   "source": [
    "import random\n",
    "from faker import Faker\n",
    "\n",
    "# Define the possible customer types\n",
    "customer_types = [\"Vip\", \"Bronze\", \"Sliver\", \"Gold\", \"Diamond\"]\n",
    "\n",
    "# Initialize Faker\n",
    "fake = Faker('vi_VN')\n",
    "\n",
    "# Create a dictionary to hold the fake data for each unique CustomerID\n",
    "customer_info = {}\n",
    "\n",
    "for cid in df['Customer ID'].unique():\n",
    "    Faker.seed(random.randint(0, 100000))\n",
    "    # Generate fake data\n",
    "    country = fake.country()\n",
    "    country_code = fake.country_code()\n",
    "    # Note: Faker does not tie city to a specific country, so we simply generate a random city.\n",
    "    city = fake.city()\n",
    "    address = fake.address().replace(\"\\n\", \", \")  # Remove newlines for a single-line address.\n",
    "    # Generate a fake name; if you want the name to reflect a specific locale based on the country,\n",
    "    # you could create a new Faker instance with a locale (if available) for that country.\n",
    "    name = fake.name()\n",
    "    ctype = random.choice(customer_types)\n",
    "    post_code = fake.postcode()\n",
    "\n",
    "    # Save the fake data in the dictionary\n",
    "    customer_info[cid] = {\n",
    "        \"CustomerCountry\": country,\n",
    "        \"CustomerAddress\": address,\n",
    "        \"CustomerCity\": city,\n",
    "        \"CustomerName\": name,\n",
    "        \"CustomerType\": ctype,\n",
    "        \"CustomerPostCode\": post_code,\n",
    "        \"CustomerCountryCode\": country_code,\n",
    "        \"Currency\": fake.currency_code(),\n",
    "        \"JobCustomer\": fake.job(),\n",
    "        \"Phone\": fake.phone_number(),\n",
    "    }\n"
   ],
   "id": "2d243c50628c3b63",
   "outputs": [],
   "execution_count": 6
  },
  {
   "metadata": {
    "ExecuteTime": {
     "end_time": "2025-04-13T05:21:08.067644Z",
     "start_time": "2025-04-13T05:19:51.803325Z"
    }
   },
   "cell_type": "code",
   "source": [
    "from langchain_core.prompts import ChatPromptTemplate\n",
    "from langchain_groq import ChatGroq\n",
    "\n",
    "list_company: list[str] = []\n",
    "for _ in range(100):\n",
    "    list_company.append(fake.company())\n",
    "\n",
    "list_category: list[str] = [\"Appliances\", \"Baby\", \"Wallets\", \"Beauty\", \"Fashion\", \"Mobile\", \"Laptop\", \"Tech\", \"Other\", \"Food\"]\n",
    "\n",
    "openAI = ChatGroq(\n",
    "    model='llama-3.1-8b-instant',\n",
    "    max_tokens=30\n",
    ")\n",
    "\n",
    "household_items = [\"Shoe\", \"Phone\", \"Laptop\", \"Pillow\", \"Blanket\", \"Lamp\", \"Television\", \"Clothes\"]\n",
    "\n",
    "brands = [\"Nike\", \"Apple\", \"Samsung\", \"Sony\", \"Adidas\", \"Microsoft\"]\n",
    "\n",
    "product_description = {}\n",
    "\n",
    "def random_product_name():\n",
    "\n",
    "    return random.choice(household_items) + \" \" + random.choice(brands)\n",
    "\n",
    "def random_product_description():\n",
    "    for item in household_items:\n",
    "        for brand in brands:\n",
    "            product = item + \" \" + brand\n",
    "            message = [('human', \"\"\"\n",
    "                give me the product description in **max 15 words** of {product_name}. If the product is not real, could you self write fake description? return as text only.\n",
    "                \"\"\"\n",
    "            )]\n",
    "            chain_message = ChatPromptTemplate.from_messages(message)\n",
    "            chain = chain_message | openAI\n",
    "            response = chain.invoke({\n",
    "                \"product_name\": product\n",
    "            })\n",
    "            product_description[product] = response.content\n",
    "\n",
    "random_product_description()\n"
   ],
   "id": "7311b1548fb2e2e7",
   "outputs": [],
   "execution_count": 7
  },
  {
   "metadata": {
    "ExecuteTime": {
     "end_time": "2025-04-13T05:21:08.155028Z",
     "start_time": "2025-04-13T05:21:08.102508Z"
    }
   },
   "cell_type": "code",
   "source": [
    "order_info = {}\n",
    "\n",
    "for oid in df['Order ID'].unique():\n",
    "    Faker.seed(random.randint(0, 100000))\n",
    "\n",
    "    order_price = fake.pricetag()\n",
    "    order_payment_methods = random.choice(['Visa', 'MasterCard', 'Exchange', 'Money'])\n",
    "    order_delivery_methods = random.choice(['Fast', 'Standard', 'VIP'])\n",
    "    order_total_items = random.randint(1, 10)\n",
    "    product_name = random_product_name()\n",
    "    product_desc = product_description[product_name]\n",
    "\n",
    "    order_info[oid] = {\n",
    "        'OrderValue': order_price,\n",
    "        'OrderPaymentMethod': order_payment_methods,\n",
    "        'OrderDeliveryMethod': order_delivery_methods,\n",
    "        'OrderTotalItems': order_total_items,\n",
    "        'productName': product_name,\n",
    "        'productInfo': product_desc,\n",
    "        'productId': fake.bothify('PROD#####'),\n",
    "        'productBrand': random.choice(list_company),\n",
    "        'productType': random.choice(list_category),\n",
    "        \"productImageUrl\": fake.image_url(),\n",
    "    }\n"
   ],
   "id": "5162835b37626665",
   "outputs": [],
   "execution_count": 8
  },
  {
   "metadata": {
    "ExecuteTime": {
     "end_time": "2025-04-13T05:21:08.178164Z",
     "start_time": "2025-04-13T05:21:08.169262Z"
    }
   },
   "cell_type": "code",
   "source": "customer_df = pd.DataFrame.from_dict(customer_info, orient='index').reset_index().rename(columns={'index': 'Customer ID'})",
   "id": "84ddda0b2da9fa3a",
   "outputs": [],
   "execution_count": 9
  },
  {
   "metadata": {
    "ExecuteTime": {
     "end_time": "2025-04-13T05:21:08.232731Z",
     "start_time": "2025-04-13T05:21:08.224541Z"
    }
   },
   "cell_type": "code",
   "source": "order_df = pd.DataFrame.from_dict(order_info, orient='index').reset_index().rename(columns={'index': 'Order ID'})",
   "id": "1c61ea00244d8a5c",
   "outputs": [],
   "execution_count": 10
  },
  {
   "metadata": {
    "ExecuteTime": {
     "end_time": "2025-04-13T05:21:08.303744Z",
     "start_time": "2025-04-13T05:21:08.280830Z"
    }
   },
   "cell_type": "code",
   "source": [
    "df = df.merge(customer_df, on='Customer ID', how='left')\n",
    "df = df.merge(order_df, on='Order ID', how='left')"
   ],
   "id": "4366749dc8788478",
   "outputs": [],
   "execution_count": 11
  },
  {
   "metadata": {
    "ExecuteTime": {
     "end_time": "2025-04-13T05:21:08.357740Z",
     "start_time": "2025-04-13T05:21:08.342057Z"
    }
   },
   "cell_type": "code",
   "source": "df.head()",
   "id": "96c8a25a4a1424ca",
   "outputs": [
    {
     "data": {
      "text/plain": [
       "    Order ID Customer ID Platform Order Date & Time  Delivery Time (Minutes)  \\\n",
       "0  ORD000001    CUST2824  JioMart           19:29.5                       30   \n",
       "1  ORD000002    CUST1409  Blinkit           54:29.5                       16   \n",
       "2  ORD000003    CUST5506  JioMart           21:29.5                       25   \n",
       "3  ORD000004    CUST5012  JioMart           19:29.5                       42   \n",
       "4  ORD000005    CUST4657  Blinkit           49:29.5                       30   \n",
       "\n",
       "      Product Category  Order Value (INR)              Customer Feedback  \\\n",
       "0  Fruits & Vegetables                382  Fast delivery, great service!   \n",
       "1                Dairy                279            Quick and reliable!   \n",
       "2            Beverages                599      Items missing from order.   \n",
       "3            Beverages                946      Items missing from order.   \n",
       "4            Beverages                334  Fast delivery, great service!   \n",
       "\n",
       "   Service Rating Delivery Delay  ...  OrderValue OrderPaymentMethod  \\\n",
       "0               5             No  ...     ₫695.04              Money   \n",
       "1               5             No  ...  ₫29,032.82           Exchange   \n",
       "2               2             No  ...       ₫6.76         MasterCard   \n",
       "3               2            Yes  ...      ₫52.85           Exchange   \n",
       "4               5             No  ...   ₫4,393.46           Exchange   \n",
       "\n",
       "  OrderDeliveryMethod OrderTotalItems      productName  \\\n",
       "0                Fast               2      Laptop Sony   \n",
       "1                Fast               6     Blanket Sony   \n",
       "2                Fast               5     Clothes Sony   \n",
       "3                Fast               7  Television Nike   \n",
       "4                 VIP               6  Blanket Samsung   \n",
       "\n",
       "                                         productInfo  productId  \\\n",
       "0  **Sony Zephyr X1: Sleek, powerful laptop with ...  PROD50435   \n",
       "1  Soft and cozy Sony Blanket with wireless charg...  PROD74377   \n",
       "2  Sony does not make clothes, it's a technology ...  PROD00518   \n",
       "3  Nike doesn't manufacture televisions, however ...  PROD64075   \n",
       "4  **Samsung Cozyblanket**: Premium, ultra-soft m...  PROD46803   \n",
       "\n",
       "                           productBrand productType  \\\n",
       "0  Lê Hoàng Công ty Trách nhiệm hữu hạn        Food   \n",
       "1                    Vũ Lê Công ty TNHH     Wallets   \n",
       "2        Vũ và đối tác Công ty TNHH MTV        Tech   \n",
       "3      Lê và Dương Doanh nghiệp tư nhân        Baby   \n",
       "4                      Mai Công ty TNHH  Appliances   \n",
       "\n",
       "                   productImageUrl  \n",
       "0    https://picsum.photos/752/387  \n",
       "1    https://picsum.photos/478/795  \n",
       "2   https://dummyimage.com/697x850  \n",
       "3  https://placekitten.com/675/924  \n",
       "4   https://dummyimage.com/721x374  \n",
       "\n",
       "[5 rows x 31 columns]"
      ],
      "text/html": [
       "<div>\n",
       "<style scoped>\n",
       "    .dataframe tbody tr th:only-of-type {\n",
       "        vertical-align: middle;\n",
       "    }\n",
       "\n",
       "    .dataframe tbody tr th {\n",
       "        vertical-align: top;\n",
       "    }\n",
       "\n",
       "    .dataframe thead th {\n",
       "        text-align: right;\n",
       "    }\n",
       "</style>\n",
       "<table border=\"1\" class=\"dataframe\">\n",
       "  <thead>\n",
       "    <tr style=\"text-align: right;\">\n",
       "      <th></th>\n",
       "      <th>Order ID</th>\n",
       "      <th>Customer ID</th>\n",
       "      <th>Platform</th>\n",
       "      <th>Order Date &amp; Time</th>\n",
       "      <th>Delivery Time (Minutes)</th>\n",
       "      <th>Product Category</th>\n",
       "      <th>Order Value (INR)</th>\n",
       "      <th>Customer Feedback</th>\n",
       "      <th>Service Rating</th>\n",
       "      <th>Delivery Delay</th>\n",
       "      <th>...</th>\n",
       "      <th>OrderValue</th>\n",
       "      <th>OrderPaymentMethod</th>\n",
       "      <th>OrderDeliveryMethod</th>\n",
       "      <th>OrderTotalItems</th>\n",
       "      <th>productName</th>\n",
       "      <th>productInfo</th>\n",
       "      <th>productId</th>\n",
       "      <th>productBrand</th>\n",
       "      <th>productType</th>\n",
       "      <th>productImageUrl</th>\n",
       "    </tr>\n",
       "  </thead>\n",
       "  <tbody>\n",
       "    <tr>\n",
       "      <th>0</th>\n",
       "      <td>ORD000001</td>\n",
       "      <td>CUST2824</td>\n",
       "      <td>JioMart</td>\n",
       "      <td>19:29.5</td>\n",
       "      <td>30</td>\n",
       "      <td>Fruits &amp; Vegetables</td>\n",
       "      <td>382</td>\n",
       "      <td>Fast delivery, great service!</td>\n",
       "      <td>5</td>\n",
       "      <td>No</td>\n",
       "      <td>...</td>\n",
       "      <td>₫695.04</td>\n",
       "      <td>Money</td>\n",
       "      <td>Fast</td>\n",
       "      <td>2</td>\n",
       "      <td>Laptop Sony</td>\n",
       "      <td>**Sony Zephyr X1: Sleek, powerful laptop with ...</td>\n",
       "      <td>PROD50435</td>\n",
       "      <td>Lê Hoàng Công ty Trách nhiệm hữu hạn</td>\n",
       "      <td>Food</td>\n",
       "      <td>https://picsum.photos/752/387</td>\n",
       "    </tr>\n",
       "    <tr>\n",
       "      <th>1</th>\n",
       "      <td>ORD000002</td>\n",
       "      <td>CUST1409</td>\n",
       "      <td>Blinkit</td>\n",
       "      <td>54:29.5</td>\n",
       "      <td>16</td>\n",
       "      <td>Dairy</td>\n",
       "      <td>279</td>\n",
       "      <td>Quick and reliable!</td>\n",
       "      <td>5</td>\n",
       "      <td>No</td>\n",
       "      <td>...</td>\n",
       "      <td>₫29,032.82</td>\n",
       "      <td>Exchange</td>\n",
       "      <td>Fast</td>\n",
       "      <td>6</td>\n",
       "      <td>Blanket Sony</td>\n",
       "      <td>Soft and cozy Sony Blanket with wireless charg...</td>\n",
       "      <td>PROD74377</td>\n",
       "      <td>Vũ Lê Công ty TNHH</td>\n",
       "      <td>Wallets</td>\n",
       "      <td>https://picsum.photos/478/795</td>\n",
       "    </tr>\n",
       "    <tr>\n",
       "      <th>2</th>\n",
       "      <td>ORD000003</td>\n",
       "      <td>CUST5506</td>\n",
       "      <td>JioMart</td>\n",
       "      <td>21:29.5</td>\n",
       "      <td>25</td>\n",
       "      <td>Beverages</td>\n",
       "      <td>599</td>\n",
       "      <td>Items missing from order.</td>\n",
       "      <td>2</td>\n",
       "      <td>No</td>\n",
       "      <td>...</td>\n",
       "      <td>₫6.76</td>\n",
       "      <td>MasterCard</td>\n",
       "      <td>Fast</td>\n",
       "      <td>5</td>\n",
       "      <td>Clothes Sony</td>\n",
       "      <td>Sony does not make clothes, it's a technology ...</td>\n",
       "      <td>PROD00518</td>\n",
       "      <td>Vũ và đối tác Công ty TNHH MTV</td>\n",
       "      <td>Tech</td>\n",
       "      <td>https://dummyimage.com/697x850</td>\n",
       "    </tr>\n",
       "    <tr>\n",
       "      <th>3</th>\n",
       "      <td>ORD000004</td>\n",
       "      <td>CUST5012</td>\n",
       "      <td>JioMart</td>\n",
       "      <td>19:29.5</td>\n",
       "      <td>42</td>\n",
       "      <td>Beverages</td>\n",
       "      <td>946</td>\n",
       "      <td>Items missing from order.</td>\n",
       "      <td>2</td>\n",
       "      <td>Yes</td>\n",
       "      <td>...</td>\n",
       "      <td>₫52.85</td>\n",
       "      <td>Exchange</td>\n",
       "      <td>Fast</td>\n",
       "      <td>7</td>\n",
       "      <td>Television Nike</td>\n",
       "      <td>Nike doesn't manufacture televisions, however ...</td>\n",
       "      <td>PROD64075</td>\n",
       "      <td>Lê và Dương Doanh nghiệp tư nhân</td>\n",
       "      <td>Baby</td>\n",
       "      <td>https://placekitten.com/675/924</td>\n",
       "    </tr>\n",
       "    <tr>\n",
       "      <th>4</th>\n",
       "      <td>ORD000005</td>\n",
       "      <td>CUST4657</td>\n",
       "      <td>Blinkit</td>\n",
       "      <td>49:29.5</td>\n",
       "      <td>30</td>\n",
       "      <td>Beverages</td>\n",
       "      <td>334</td>\n",
       "      <td>Fast delivery, great service!</td>\n",
       "      <td>5</td>\n",
       "      <td>No</td>\n",
       "      <td>...</td>\n",
       "      <td>₫4,393.46</td>\n",
       "      <td>Exchange</td>\n",
       "      <td>VIP</td>\n",
       "      <td>6</td>\n",
       "      <td>Blanket Samsung</td>\n",
       "      <td>**Samsung Cozyblanket**: Premium, ultra-soft m...</td>\n",
       "      <td>PROD46803</td>\n",
       "      <td>Mai Công ty TNHH</td>\n",
       "      <td>Appliances</td>\n",
       "      <td>https://dummyimage.com/721x374</td>\n",
       "    </tr>\n",
       "  </tbody>\n",
       "</table>\n",
       "<p>5 rows × 31 columns</p>\n",
       "</div>"
      ]
     },
     "execution_count": 12,
     "metadata": {},
     "output_type": "execute_result"
    }
   ],
   "execution_count": 12
  },
  {
   "metadata": {
    "ExecuteTime": {
     "end_time": "2025-04-13T05:21:22.694393Z",
     "start_time": "2025-04-13T05:21:22.679264Z"
    }
   },
   "cell_type": "code",
   "source": [
    "# df.to_csv('public/economy_delivery_data/real_data_generate.csv', index=False)\n",
    "first_60_rows = df.head(60)\n",
    "first_60_rows.to_csv('public/economy_delivery_data/real_data_generate.csv', index=False)"
   ],
   "id": "a23b031b281a8743",
   "outputs": [],
   "execution_count": 14
  },
  {
   "metadata": {
    "ExecuteTime": {
     "end_time": "2025-04-13T05:21:43.794763Z",
     "start_time": "2025-04-13T05:21:43.784479Z"
    }
   },
   "cell_type": "code",
   "source": [
    "# cut random 200 rows to become reference data\n",
    "df1 = pd.read_csv('public/economy_delivery_data/real_data_generate.csv')\n",
    "df1 = df1.sample(n=20, random_state=42)\n",
    "df1.to_csv('public/economy_delivery_data/reference_data.csv', index=False)"
   ],
   "id": "485d4b7d4d2fa76e",
   "outputs": [],
   "execution_count": 18
  },
  {
   "metadata": {
    "ExecuteTime": {
     "end_time": "2025-04-13T05:21:44.998306Z",
     "start_time": "2025-04-13T05:21:44.985933Z"
    }
   },
   "cell_type": "code",
   "source": [
    "reference_data = []\n",
    "for col in df.columns:\n",
    "    unique_values = df[col].dropna().unique()  # Remove NaN and get unique values\n",
    "    if len(unique_values) > 50:\n",
    "        continue\n",
    "    unique_values_str = \", \".join(map(str, unique_values))  # Limit display to first 10 unique values\n",
    "    reference_data.append({\"column_name\": col, \"reference_value\": unique_values_str})\n",
    "\n",
    "reference_df = pd.DataFrame(reference_data)\n",
    "reference_df.to_csv('public/economy_delivery_data/reference_data_value.csv', index=False)"
   ],
   "id": "ea95822a96609569",
   "outputs": [],
   "execution_count": 19
  }
 ],
 "metadata": {
  "kernelspec": {
   "display_name": "Python 3",
   "language": "python",
   "name": "python3"
  },
  "language_info": {
   "codemirror_mode": {
    "name": "ipython",
    "version": 2
   },
   "file_extension": ".py",
   "mimetype": "text/x-python",
   "name": "python",
   "nbconvert_exporter": "python",
   "pygments_lexer": "ipython2",
   "version": "2.7.6"
  }
 },
 "nbformat": 4,
 "nbformat_minor": 5
}
