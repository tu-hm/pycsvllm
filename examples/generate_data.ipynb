{
 "cells": [
  {
   "cell_type": "code",
   "id": "initial_id",
   "metadata": {
    "collapsed": true,
    "ExecuteTime": {
     "end_time": "2025-03-29T06:33:07.545880Z",
     "start_time": "2025-03-29T06:33:07.542004Z"
    }
   },
   "source": [
    "import os\n",
    "\n",
    "from dotenv import load_dotenv\n",
    "\n",
    "print(\"Generating data\")"
   ],
   "outputs": [
    {
     "name": "stdout",
     "output_type": "stream",
     "text": [
      "Generating data\n"
     ]
    }
   ],
   "execution_count": 14
  },
  {
   "metadata": {
    "ExecuteTime": {
     "end_time": "2025-03-29T09:41:53.259279Z",
     "start_time": "2025-03-29T09:41:53.236541Z"
    }
   },
   "cell_type": "code",
   "source": [
    "from dotenv import load_dotenv\n",
    "\n",
    "load_dotenv()"
   ],
   "id": "65e1d71f373820cd",
   "outputs": [
    {
     "data": {
      "text/plain": [
       "True"
      ]
     },
     "execution_count": 1,
     "metadata": {},
     "output_type": "execute_result"
    }
   ],
   "execution_count": 1
  },
  {
   "metadata": {
    "ExecuteTime": {
     "end_time": "2025-03-29T14:00:29.075418Z",
     "start_time": "2025-03-29T14:00:28.627323Z"
    }
   },
   "cell_type": "code",
   "source": [
    "import os\n",
    "import pandas as pd\n",
    "\n",
    "OPENAI_API_KEY = os.getenv(\"OPENAI_API_KEY\")\n"
   ],
   "id": "27c421e15c70f68f",
   "outputs": [],
   "execution_count": 3
  },
  {
   "metadata": {
    "ExecuteTime": {
     "end_time": "2025-03-29T14:00:53.260241Z",
     "start_time": "2025-03-29T14:00:53.246909Z"
    }
   },
   "cell_type": "code",
   "source": [
    "df = pd.read_csv('public/economy_delivery_data/real_data.csv')\n",
    "df.head()"
   ],
   "id": "f2145c793a34580a",
   "outputs": [
    {
     "data": {
      "text/plain": [
       "    Order ID Customer ID Platform Order Date & Time  Delivery Time (Minutes)  \\\n",
       "0  ORD000001    CUST2824  JioMart           19:29.5                       30   \n",
       "1  ORD000002    CUST1409  Blinkit           54:29.5                       16   \n",
       "2  ORD000003    CUST5506  JioMart           21:29.5                       25   \n",
       "3  ORD000004    CUST5012  JioMart           19:29.5                       42   \n",
       "4  ORD000005    CUST4657  Blinkit           49:29.5                       30   \n",
       "\n",
       "      Product Category  Order Value (INR)              Customer Feedback  \\\n",
       "0  Fruits & Vegetables                382  Fast delivery, great service!   \n",
       "1                Dairy                279            Quick and reliable!   \n",
       "2            Beverages                599      Items missing from order.   \n",
       "3            Beverages                946      Items missing from order.   \n",
       "4            Beverages                334  Fast delivery, great service!   \n",
       "\n",
       "   Service Rating Delivery Delay Refund Requested  \n",
       "0               5             No               No  \n",
       "1               5             No               No  \n",
       "2               2             No              Yes  \n",
       "3               2            Yes              Yes  \n",
       "4               5             No               No  "
      ],
      "text/html": [
       "<div>\n",
       "<style scoped>\n",
       "    .dataframe tbody tr th:only-of-type {\n",
       "        vertical-align: middle;\n",
       "    }\n",
       "\n",
       "    .dataframe tbody tr th {\n",
       "        vertical-align: top;\n",
       "    }\n",
       "\n",
       "    .dataframe thead th {\n",
       "        text-align: right;\n",
       "    }\n",
       "</style>\n",
       "<table border=\"1\" class=\"dataframe\">\n",
       "  <thead>\n",
       "    <tr style=\"text-align: right;\">\n",
       "      <th></th>\n",
       "      <th>Order ID</th>\n",
       "      <th>Customer ID</th>\n",
       "      <th>Platform</th>\n",
       "      <th>Order Date &amp; Time</th>\n",
       "      <th>Delivery Time (Minutes)</th>\n",
       "      <th>Product Category</th>\n",
       "      <th>Order Value (INR)</th>\n",
       "      <th>Customer Feedback</th>\n",
       "      <th>Service Rating</th>\n",
       "      <th>Delivery Delay</th>\n",
       "      <th>Refund Requested</th>\n",
       "    </tr>\n",
       "  </thead>\n",
       "  <tbody>\n",
       "    <tr>\n",
       "      <th>0</th>\n",
       "      <td>ORD000001</td>\n",
       "      <td>CUST2824</td>\n",
       "      <td>JioMart</td>\n",
       "      <td>19:29.5</td>\n",
       "      <td>30</td>\n",
       "      <td>Fruits &amp; Vegetables</td>\n",
       "      <td>382</td>\n",
       "      <td>Fast delivery, great service!</td>\n",
       "      <td>5</td>\n",
       "      <td>No</td>\n",
       "      <td>No</td>\n",
       "    </tr>\n",
       "    <tr>\n",
       "      <th>1</th>\n",
       "      <td>ORD000002</td>\n",
       "      <td>CUST1409</td>\n",
       "      <td>Blinkit</td>\n",
       "      <td>54:29.5</td>\n",
       "      <td>16</td>\n",
       "      <td>Dairy</td>\n",
       "      <td>279</td>\n",
       "      <td>Quick and reliable!</td>\n",
       "      <td>5</td>\n",
       "      <td>No</td>\n",
       "      <td>No</td>\n",
       "    </tr>\n",
       "    <tr>\n",
       "      <th>2</th>\n",
       "      <td>ORD000003</td>\n",
       "      <td>CUST5506</td>\n",
       "      <td>JioMart</td>\n",
       "      <td>21:29.5</td>\n",
       "      <td>25</td>\n",
       "      <td>Beverages</td>\n",
       "      <td>599</td>\n",
       "      <td>Items missing from order.</td>\n",
       "      <td>2</td>\n",
       "      <td>No</td>\n",
       "      <td>Yes</td>\n",
       "    </tr>\n",
       "    <tr>\n",
       "      <th>3</th>\n",
       "      <td>ORD000004</td>\n",
       "      <td>CUST5012</td>\n",
       "      <td>JioMart</td>\n",
       "      <td>19:29.5</td>\n",
       "      <td>42</td>\n",
       "      <td>Beverages</td>\n",
       "      <td>946</td>\n",
       "      <td>Items missing from order.</td>\n",
       "      <td>2</td>\n",
       "      <td>Yes</td>\n",
       "      <td>Yes</td>\n",
       "    </tr>\n",
       "    <tr>\n",
       "      <th>4</th>\n",
       "      <td>ORD000005</td>\n",
       "      <td>CUST4657</td>\n",
       "      <td>Blinkit</td>\n",
       "      <td>49:29.5</td>\n",
       "      <td>30</td>\n",
       "      <td>Beverages</td>\n",
       "      <td>334</td>\n",
       "      <td>Fast delivery, great service!</td>\n",
       "      <td>5</td>\n",
       "      <td>No</td>\n",
       "      <td>No</td>\n",
       "    </tr>\n",
       "  </tbody>\n",
       "</table>\n",
       "</div>"
      ]
     },
     "execution_count": 6,
     "metadata": {},
     "output_type": "execute_result"
    }
   ],
   "execution_count": 6
  },
  {
   "metadata": {
    "ExecuteTime": {
     "end_time": "2025-03-29T09:41:55.855208Z",
     "start_time": "2025-03-29T09:41:55.670471Z"
    }
   },
   "cell_type": "code",
   "source": [
    "import random\n",
    "from faker import Faker\n",
    "\n",
    "# Define the possible customer types\n",
    "customer_types = [\"Vip\", \"Bronze\", \"Sliver\", \"Gold\", \"Diamond\"]\n",
    "\n",
    "# Initialize Faker\n",
    "fake = Faker('vi_VN')\n",
    "\n",
    "# Create a dictionary to hold the fake data for each unique CustomerID\n",
    "customer_info = {}\n",
    "\n",
    "for cid in df['Customer ID'].unique():\n",
    "    Faker.seed(random.randint(0, 100000))\n",
    "    # Generate fake data\n",
    "    country = fake.country()\n",
    "    country_code = fake.country_code()\n",
    "    # Note: Faker does not tie city to a specific country, so we simply generate a random city.\n",
    "    city = fake.city()\n",
    "    address = fake.address().replace(\"\\n\", \", \")  # Remove newlines for a single-line address.\n",
    "    # Generate a fake name; if you want the name to reflect a specific locale based on the country,\n",
    "    # you could create a new Faker instance with a locale (if available) for that country.\n",
    "    name = fake.name()\n",
    "    ctype = random.choice(customer_types)\n",
    "    post_code = fake.postcode()\n",
    "\n",
    "    # Save the fake data in the dictionary\n",
    "    customer_info[cid] = {\n",
    "        \"CustomerCountry\": country,\n",
    "        \"CustomerAddress\": address,\n",
    "        \"CustomerCity\": city,\n",
    "        \"CustomerName\": name,\n",
    "        \"CustomerType\": ctype,\n",
    "        \"CustomerPostCode\": post_code,\n",
    "        \"CustomerCountryCode\": country_code,\n",
    "        \"Currency\": fake.currency_code(),\n",
    "        \"JobCustomer\": fake.job(),\n",
    "        \"Phone\": fake.phone_number(),\n",
    "    }\n"
   ],
   "id": "2d243c50628c3b63",
   "outputs": [],
   "execution_count": 4
  },
  {
   "metadata": {
    "ExecuteTime": {
     "end_time": "2025-03-29T09:44:36.803229Z",
     "start_time": "2025-03-29T09:44:36.776500Z"
    }
   },
   "cell_type": "code",
   "source": [
    "order_info = {}\n",
    "\n",
    "for oid in df['Order ID'].unique():\n",
    "    Faker.seed(random.randint(0, 100000))\n",
    "\n",
    "    order_price = fake.pricetag()\n",
    "    order_payment_methods = random.choice(['Visa', 'MasterCard', 'Exchange', 'Money'])\n",
    "    order_delivery_methods = random.choice(['Fast', 'Standard', 'VIP'])\n",
    "    order_total_items = random.randint(1, 10)\n",
    "\n",
    "    order_info[oid] = {\n",
    "        'OrderValue': order_price,\n",
    "        'OrderPaymentMethod': order_payment_methods,\n",
    "        'OrderDeliveryMethod': order_delivery_methods,\n",
    "        'OrderTotalItems': order_total_items,\n",
    "    }\n"
   ],
   "id": "5162835b37626665",
   "outputs": [],
   "execution_count": 6
  },
  {
   "metadata": {
    "ExecuteTime": {
     "end_time": "2025-03-29T09:44:38.368310Z",
     "start_time": "2025-03-29T09:44:38.360796Z"
    }
   },
   "cell_type": "code",
   "source": "customer_df = pd.DataFrame.from_dict(customer_info, orient='index').reset_index().rename(columns={'index': 'Customer ID'})",
   "id": "84ddda0b2da9fa3a",
   "outputs": [],
   "execution_count": 7
  },
  {
   "metadata": {
    "ExecuteTime": {
     "end_time": "2025-03-29T09:44:40.122585Z",
     "start_time": "2025-03-29T09:44:40.115847Z"
    }
   },
   "cell_type": "code",
   "source": "order_df = pd.DataFrame.from_dict(order_info, orient='index').reset_index().rename(columns={'index': 'Order ID'})",
   "id": "1c61ea00244d8a5c",
   "outputs": [],
   "execution_count": 8
  },
  {
   "metadata": {
    "ExecuteTime": {
     "end_time": "2025-03-29T09:44:41.024231Z",
     "start_time": "2025-03-29T09:44:41.008922Z"
    }
   },
   "cell_type": "code",
   "source": [
    "df = df.merge(customer_df, on='Customer ID', how='left')\n",
    "df = df.merge(order_df, on='Order ID', how='left')"
   ],
   "id": "4366749dc8788478",
   "outputs": [],
   "execution_count": 9
  },
  {
   "metadata": {
    "ExecuteTime": {
     "end_time": "2025-03-29T09:44:42.336872Z",
     "start_time": "2025-03-29T09:44:42.319523Z"
    }
   },
   "cell_type": "code",
   "source": "df.head()",
   "id": "96c8a25a4a1424ca",
   "outputs": [
    {
     "data": {
      "text/plain": [
       "    Order ID Customer ID Platform Order Date & Time  Delivery Time (Minutes)  \\\n",
       "0  ORD000001    CUST2824  JioMart           19:29.5                       30   \n",
       "1  ORD000002    CUST1409  Blinkit           54:29.5                       16   \n",
       "2  ORD000003    CUST5506  JioMart           21:29.5                       25   \n",
       "3  ORD000004    CUST5012  JioMart           19:29.5                       42   \n",
       "4  ORD000005    CUST4657  Blinkit           49:29.5                       30   \n",
       "\n",
       "      Product Category  Order Value (INR)              Customer Feedback  \\\n",
       "0  Fruits & Vegetables                382  Fast delivery, great service!   \n",
       "1                Dairy                279            Quick and reliable!   \n",
       "2            Beverages                599      Items missing from order.   \n",
       "3            Beverages                946      Items missing from order.   \n",
       "4            Beverages                334  Fast delivery, great service!   \n",
       "\n",
       "   Service Rating Delivery Delay  ... CustomerType CustomerPostCode  \\\n",
       "0               5             No  ...      Diamond           301008   \n",
       "1               5             No  ...       Sliver           946454   \n",
       "2               2             No  ...      Diamond           339969   \n",
       "3               2            Yes  ...      Diamond           489220   \n",
       "4               5             No  ...          Vip           837755   \n",
       "\n",
       "  CustomerCountryCode Currency            JobCustomer           Phone  \\\n",
       "0                  DZ      PGK       Quản lý sản xuất      04 8900389   \n",
       "1                  TL      ZWD   Chuyên viên tín dụng  +84 66 7210134   \n",
       "2                  MZ      CZK         Biên dịch viên  (08) 6196 7544   \n",
       "3                  IN      NOK    Nhân viên ngân hàng    07 8370 8078   \n",
       "4                  UZ      MWK  Nhà phân tích dữ liệu   +84-96-289489   \n",
       "\n",
       "   OrderValue OrderPaymentMethod OrderDeliveryMethod OrderTotalItems  \n",
       "0   ₫3,417.43           Exchange                 VIP              10  \n",
       "1      ₫43.77         MasterCard            Standard               5  \n",
       "2   ₫7,953.23               Visa                 VIP               7  \n",
       "3  ₫44,822.99              Money                Fast               1  \n",
       "4       ₫4.44               Visa                Fast               2  \n",
       "\n",
       "[5 rows x 25 columns]"
      ],
      "text/html": [
       "<div>\n",
       "<style scoped>\n",
       "    .dataframe tbody tr th:only-of-type {\n",
       "        vertical-align: middle;\n",
       "    }\n",
       "\n",
       "    .dataframe tbody tr th {\n",
       "        vertical-align: top;\n",
       "    }\n",
       "\n",
       "    .dataframe thead th {\n",
       "        text-align: right;\n",
       "    }\n",
       "</style>\n",
       "<table border=\"1\" class=\"dataframe\">\n",
       "  <thead>\n",
       "    <tr style=\"text-align: right;\">\n",
       "      <th></th>\n",
       "      <th>Order ID</th>\n",
       "      <th>Customer ID</th>\n",
       "      <th>Platform</th>\n",
       "      <th>Order Date &amp; Time</th>\n",
       "      <th>Delivery Time (Minutes)</th>\n",
       "      <th>Product Category</th>\n",
       "      <th>Order Value (INR)</th>\n",
       "      <th>Customer Feedback</th>\n",
       "      <th>Service Rating</th>\n",
       "      <th>Delivery Delay</th>\n",
       "      <th>...</th>\n",
       "      <th>CustomerType</th>\n",
       "      <th>CustomerPostCode</th>\n",
       "      <th>CustomerCountryCode</th>\n",
       "      <th>Currency</th>\n",
       "      <th>JobCustomer</th>\n",
       "      <th>Phone</th>\n",
       "      <th>OrderValue</th>\n",
       "      <th>OrderPaymentMethod</th>\n",
       "      <th>OrderDeliveryMethod</th>\n",
       "      <th>OrderTotalItems</th>\n",
       "    </tr>\n",
       "  </thead>\n",
       "  <tbody>\n",
       "    <tr>\n",
       "      <th>0</th>\n",
       "      <td>ORD000001</td>\n",
       "      <td>CUST2824</td>\n",
       "      <td>JioMart</td>\n",
       "      <td>19:29.5</td>\n",
       "      <td>30</td>\n",
       "      <td>Fruits &amp; Vegetables</td>\n",
       "      <td>382</td>\n",
       "      <td>Fast delivery, great service!</td>\n",
       "      <td>5</td>\n",
       "      <td>No</td>\n",
       "      <td>...</td>\n",
       "      <td>Diamond</td>\n",
       "      <td>301008</td>\n",
       "      <td>DZ</td>\n",
       "      <td>PGK</td>\n",
       "      <td>Quản lý sản xuất</td>\n",
       "      <td>04 8900389</td>\n",
       "      <td>₫3,417.43</td>\n",
       "      <td>Exchange</td>\n",
       "      <td>VIP</td>\n",
       "      <td>10</td>\n",
       "    </tr>\n",
       "    <tr>\n",
       "      <th>1</th>\n",
       "      <td>ORD000002</td>\n",
       "      <td>CUST1409</td>\n",
       "      <td>Blinkit</td>\n",
       "      <td>54:29.5</td>\n",
       "      <td>16</td>\n",
       "      <td>Dairy</td>\n",
       "      <td>279</td>\n",
       "      <td>Quick and reliable!</td>\n",
       "      <td>5</td>\n",
       "      <td>No</td>\n",
       "      <td>...</td>\n",
       "      <td>Sliver</td>\n",
       "      <td>946454</td>\n",
       "      <td>TL</td>\n",
       "      <td>ZWD</td>\n",
       "      <td>Chuyên viên tín dụng</td>\n",
       "      <td>+84 66 7210134</td>\n",
       "      <td>₫43.77</td>\n",
       "      <td>MasterCard</td>\n",
       "      <td>Standard</td>\n",
       "      <td>5</td>\n",
       "    </tr>\n",
       "    <tr>\n",
       "      <th>2</th>\n",
       "      <td>ORD000003</td>\n",
       "      <td>CUST5506</td>\n",
       "      <td>JioMart</td>\n",
       "      <td>21:29.5</td>\n",
       "      <td>25</td>\n",
       "      <td>Beverages</td>\n",
       "      <td>599</td>\n",
       "      <td>Items missing from order.</td>\n",
       "      <td>2</td>\n",
       "      <td>No</td>\n",
       "      <td>...</td>\n",
       "      <td>Diamond</td>\n",
       "      <td>339969</td>\n",
       "      <td>MZ</td>\n",
       "      <td>CZK</td>\n",
       "      <td>Biên dịch viên</td>\n",
       "      <td>(08) 6196 7544</td>\n",
       "      <td>₫7,953.23</td>\n",
       "      <td>Visa</td>\n",
       "      <td>VIP</td>\n",
       "      <td>7</td>\n",
       "    </tr>\n",
       "    <tr>\n",
       "      <th>3</th>\n",
       "      <td>ORD000004</td>\n",
       "      <td>CUST5012</td>\n",
       "      <td>JioMart</td>\n",
       "      <td>19:29.5</td>\n",
       "      <td>42</td>\n",
       "      <td>Beverages</td>\n",
       "      <td>946</td>\n",
       "      <td>Items missing from order.</td>\n",
       "      <td>2</td>\n",
       "      <td>Yes</td>\n",
       "      <td>...</td>\n",
       "      <td>Diamond</td>\n",
       "      <td>489220</td>\n",
       "      <td>IN</td>\n",
       "      <td>NOK</td>\n",
       "      <td>Nhân viên ngân hàng</td>\n",
       "      <td>07 8370 8078</td>\n",
       "      <td>₫44,822.99</td>\n",
       "      <td>Money</td>\n",
       "      <td>Fast</td>\n",
       "      <td>1</td>\n",
       "    </tr>\n",
       "    <tr>\n",
       "      <th>4</th>\n",
       "      <td>ORD000005</td>\n",
       "      <td>CUST4657</td>\n",
       "      <td>Blinkit</td>\n",
       "      <td>49:29.5</td>\n",
       "      <td>30</td>\n",
       "      <td>Beverages</td>\n",
       "      <td>334</td>\n",
       "      <td>Fast delivery, great service!</td>\n",
       "      <td>5</td>\n",
       "      <td>No</td>\n",
       "      <td>...</td>\n",
       "      <td>Vip</td>\n",
       "      <td>837755</td>\n",
       "      <td>UZ</td>\n",
       "      <td>MWK</td>\n",
       "      <td>Nhà phân tích dữ liệu</td>\n",
       "      <td>+84-96-289489</td>\n",
       "      <td>₫4.44</td>\n",
       "      <td>Visa</td>\n",
       "      <td>Fast</td>\n",
       "      <td>2</td>\n",
       "    </tr>\n",
       "  </tbody>\n",
       "</table>\n",
       "<p>5 rows × 25 columns</p>\n",
       "</div>"
      ]
     },
     "execution_count": 10,
     "metadata": {},
     "output_type": "execute_result"
    }
   ],
   "execution_count": 10
  },
  {
   "metadata": {
    "ExecuteTime": {
     "end_time": "2025-03-29T09:45:15.727789Z",
     "start_time": "2025-03-29T09:45:15.711358Z"
    }
   },
   "cell_type": "code",
   "source": "df.to_csv('public/economy_delivery_data/real_data_generate.csv', index=False)",
   "id": "a23b031b281a8743",
   "outputs": [],
   "execution_count": 12
  },
  {
   "metadata": {
    "ExecuteTime": {
     "end_time": "2025-03-29T14:02:12.095743Z",
     "start_time": "2025-03-29T14:02:12.081195Z"
    }
   },
   "cell_type": "code",
   "source": [
    "# cut random 200 rows to become reference data\n",
    "df1 = pd.read_csv('public/economy_delivery_data/real_data_generate.csv')\n",
    "df1 = df1.sample(n=60, random_state=42)\n",
    "df1.to_csv('public/economy_delivery_data/reference_data.csv', index=False)"
   ],
   "id": "485d4b7d4d2fa76e",
   "outputs": [],
   "execution_count": 8
  }
 ],
 "metadata": {
  "kernelspec": {
   "display_name": "Python 3",
   "language": "python",
   "name": "python3"
  },
  "language_info": {
   "codemirror_mode": {
    "name": "ipython",
    "version": 2
   },
   "file_extension": ".py",
   "mimetype": "text/x-python",
   "name": "python",
   "nbconvert_exporter": "python",
   "pygments_lexer": "ipython2",
   "version": "2.7.6"
  }
 },
 "nbformat": 4,
 "nbformat_minor": 5
}
