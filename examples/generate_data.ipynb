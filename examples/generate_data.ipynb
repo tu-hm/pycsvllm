{
 "cells": [
  {
   "cell_type": "code",
   "id": "initial_id",
   "metadata": {
    "collapsed": true,
    "ExecuteTime": {
     "end_time": "2025-03-31T05:17:28.190034Z",
     "start_time": "2025-03-31T05:17:28.180517Z"
    }
   },
   "source": [
    "import os\n",
    "\n",
    "from dotenv import load_dotenv\n",
    "from markdown_it.rules_block import reference\n",
    "\n",
    "print(\"Generating data\")"
   ],
   "outputs": [
    {
     "name": "stdout",
     "output_type": "stream",
     "text": [
      "Generating data\n"
     ]
    }
   ],
   "execution_count": 28
  },
  {
   "metadata": {
    "ExecuteTime": {
     "end_time": "2025-03-31T05:17:28.251856Z",
     "start_time": "2025-03-31T05:17:28.244478Z"
    }
   },
   "cell_type": "code",
   "source": [
    "from dotenv import load_dotenv\n",
    "\n",
    "load_dotenv()"
   ],
   "id": "65e1d71f373820cd",
   "outputs": [
    {
     "data": {
      "text/plain": [
       "True"
      ]
     },
     "execution_count": 29,
     "metadata": {},
     "output_type": "execute_result"
    }
   ],
   "execution_count": 29
  },
  {
   "metadata": {
    "ExecuteTime": {
     "end_time": "2025-03-31T05:17:28.304463Z",
     "start_time": "2025-03-31T05:17:28.301166Z"
    }
   },
   "cell_type": "code",
   "source": [
    "import os\n",
    "import pandas as pd\n",
    "\n",
    "OPENAI_API_KEY = os.getenv(\"OPENAI_API_KEY\")\n"
   ],
   "id": "27c421e15c70f68f",
   "outputs": [],
   "execution_count": 30
  },
  {
   "metadata": {
    "ExecuteTime": {
     "end_time": "2025-03-31T05:17:28.367485Z",
     "start_time": "2025-03-31T05:17:28.355714Z"
    }
   },
   "cell_type": "code",
   "source": [
    "df = pd.read_csv('public/economy_delivery_data/real_data.csv')\n",
    "df.head()"
   ],
   "id": "f2145c793a34580a",
   "outputs": [
    {
     "data": {
      "text/plain": [
       "    Order ID Customer ID Platform Order Date & Time  Delivery Time (Minutes)  \\\n",
       "0  ORD000001    CUST2824  JioMart           19:29.5                       30   \n",
       "1  ORD000002    CUST1409  Blinkit           54:29.5                       16   \n",
       "2  ORD000003    CUST5506  JioMart           21:29.5                       25   \n",
       "3  ORD000004    CUST5012  JioMart           19:29.5                       42   \n",
       "4  ORD000005    CUST4657  Blinkit           49:29.5                       30   \n",
       "\n",
       "      Product Category  Order Value (INR)              Customer Feedback  \\\n",
       "0  Fruits & Vegetables                382  Fast delivery, great service!   \n",
       "1                Dairy                279            Quick and reliable!   \n",
       "2            Beverages                599      Items missing from order.   \n",
       "3            Beverages                946      Items missing from order.   \n",
       "4            Beverages                334  Fast delivery, great service!   \n",
       "\n",
       "   Service Rating Delivery Delay Refund Requested  \n",
       "0               5             No               No  \n",
       "1               5             No               No  \n",
       "2               2             No              Yes  \n",
       "3               2            Yes              Yes  \n",
       "4               5             No               No  "
      ],
      "text/html": [
       "<div>\n",
       "<style scoped>\n",
       "    .dataframe tbody tr th:only-of-type {\n",
       "        vertical-align: middle;\n",
       "    }\n",
       "\n",
       "    .dataframe tbody tr th {\n",
       "        vertical-align: top;\n",
       "    }\n",
       "\n",
       "    .dataframe thead th {\n",
       "        text-align: right;\n",
       "    }\n",
       "</style>\n",
       "<table border=\"1\" class=\"dataframe\">\n",
       "  <thead>\n",
       "    <tr style=\"text-align: right;\">\n",
       "      <th></th>\n",
       "      <th>Order ID</th>\n",
       "      <th>Customer ID</th>\n",
       "      <th>Platform</th>\n",
       "      <th>Order Date &amp; Time</th>\n",
       "      <th>Delivery Time (Minutes)</th>\n",
       "      <th>Product Category</th>\n",
       "      <th>Order Value (INR)</th>\n",
       "      <th>Customer Feedback</th>\n",
       "      <th>Service Rating</th>\n",
       "      <th>Delivery Delay</th>\n",
       "      <th>Refund Requested</th>\n",
       "    </tr>\n",
       "  </thead>\n",
       "  <tbody>\n",
       "    <tr>\n",
       "      <th>0</th>\n",
       "      <td>ORD000001</td>\n",
       "      <td>CUST2824</td>\n",
       "      <td>JioMart</td>\n",
       "      <td>19:29.5</td>\n",
       "      <td>30</td>\n",
       "      <td>Fruits &amp; Vegetables</td>\n",
       "      <td>382</td>\n",
       "      <td>Fast delivery, great service!</td>\n",
       "      <td>5</td>\n",
       "      <td>No</td>\n",
       "      <td>No</td>\n",
       "    </tr>\n",
       "    <tr>\n",
       "      <th>1</th>\n",
       "      <td>ORD000002</td>\n",
       "      <td>CUST1409</td>\n",
       "      <td>Blinkit</td>\n",
       "      <td>54:29.5</td>\n",
       "      <td>16</td>\n",
       "      <td>Dairy</td>\n",
       "      <td>279</td>\n",
       "      <td>Quick and reliable!</td>\n",
       "      <td>5</td>\n",
       "      <td>No</td>\n",
       "      <td>No</td>\n",
       "    </tr>\n",
       "    <tr>\n",
       "      <th>2</th>\n",
       "      <td>ORD000003</td>\n",
       "      <td>CUST5506</td>\n",
       "      <td>JioMart</td>\n",
       "      <td>21:29.5</td>\n",
       "      <td>25</td>\n",
       "      <td>Beverages</td>\n",
       "      <td>599</td>\n",
       "      <td>Items missing from order.</td>\n",
       "      <td>2</td>\n",
       "      <td>No</td>\n",
       "      <td>Yes</td>\n",
       "    </tr>\n",
       "    <tr>\n",
       "      <th>3</th>\n",
       "      <td>ORD000004</td>\n",
       "      <td>CUST5012</td>\n",
       "      <td>JioMart</td>\n",
       "      <td>19:29.5</td>\n",
       "      <td>42</td>\n",
       "      <td>Beverages</td>\n",
       "      <td>946</td>\n",
       "      <td>Items missing from order.</td>\n",
       "      <td>2</td>\n",
       "      <td>Yes</td>\n",
       "      <td>Yes</td>\n",
       "    </tr>\n",
       "    <tr>\n",
       "      <th>4</th>\n",
       "      <td>ORD000005</td>\n",
       "      <td>CUST4657</td>\n",
       "      <td>Blinkit</td>\n",
       "      <td>49:29.5</td>\n",
       "      <td>30</td>\n",
       "      <td>Beverages</td>\n",
       "      <td>334</td>\n",
       "      <td>Fast delivery, great service!</td>\n",
       "      <td>5</td>\n",
       "      <td>No</td>\n",
       "      <td>No</td>\n",
       "    </tr>\n",
       "  </tbody>\n",
       "</table>\n",
       "</div>"
      ]
     },
     "execution_count": 31,
     "metadata": {},
     "output_type": "execute_result"
    }
   ],
   "execution_count": 31
  },
  {
   "metadata": {
    "ExecuteTime": {
     "end_time": "2025-03-31T05:17:28.531826Z",
     "start_time": "2025-03-31T05:17:28.453699Z"
    }
   },
   "cell_type": "code",
   "source": [
    "import random\n",
    "from faker import Faker\n",
    "\n",
    "# Define the possible customer types\n",
    "customer_types = [\"Vip\", \"Bronze\", \"Sliver\", \"Gold\", \"Diamond\"]\n",
    "\n",
    "# Initialize Faker\n",
    "fake = Faker('vi_VN')\n",
    "\n",
    "# Create a dictionary to hold the fake data for each unique CustomerID\n",
    "customer_info = {}\n",
    "\n",
    "for cid in df['Customer ID'].unique():\n",
    "    Faker.seed(random.randint(0, 100000))\n",
    "    # Generate fake data\n",
    "    country = fake.country()\n",
    "    country_code = fake.country_code()\n",
    "    # Note: Faker does not tie city to a specific country, so we simply generate a random city.\n",
    "    city = fake.city()\n",
    "    address = fake.address().replace(\"\\n\", \", \")  # Remove newlines for a single-line address.\n",
    "    # Generate a fake name; if you want the name to reflect a specific locale based on the country,\n",
    "    # you could create a new Faker instance with a locale (if available) for that country.\n",
    "    name = fake.name()\n",
    "    ctype = random.choice(customer_types)\n",
    "    post_code = fake.postcode()\n",
    "\n",
    "    # Save the fake data in the dictionary\n",
    "    customer_info[cid] = {\n",
    "        \"CustomerCountry\": country,\n",
    "        \"CustomerAddress\": address,\n",
    "        \"CustomerCity\": city,\n",
    "        \"CustomerName\": name,\n",
    "        \"CustomerType\": ctype,\n",
    "        \"CustomerPostCode\": post_code,\n",
    "        \"CustomerCountryCode\": country_code,\n",
    "        \"Currency\": fake.currency_code(),\n",
    "        \"JobCustomer\": fake.job(),\n",
    "        \"Phone\": fake.phone_number(),\n",
    "    }\n"
   ],
   "id": "2d243c50628c3b63",
   "outputs": [],
   "execution_count": 32
  },
  {
   "metadata": {
    "ExecuteTime": {
     "end_time": "2025-03-31T05:17:28.629303Z",
     "start_time": "2025-03-31T05:17:28.578193Z"
    }
   },
   "cell_type": "code",
   "source": [
    "\n",
    "list_company: list[str] = []\n",
    "for _ in range(100):\n",
    "    list_company.append(fake.company())\n",
    "\n",
    "list_category: list[str] = [\"Appliances\", \"Baby\", \"Wallets\", \"Beauty\", \"Fashion\", \"Mobile\", \"Laptop\", \"Tech\", \"Other\", \"Food\"]\n",
    "\n",
    "\n",
    "for oid in df['Order ID'].unique():\n",
    "    Faker.seed(random.randint(0, 100000))\n",
    "\n",
    "    order_price = fake.pricetag()\n",
    "    order_payment_methods = random.choice(['Visa', 'MasterCard', 'Exchange', 'Money'])\n",
    "    order_delivery_methods = random.choice(['Fast', 'Standard', 'VIP'])\n",
    "    order_total_items = random.randint(1, 10)\n",
    "\n",
    "    order_info[oid] = {\n",
    "        'OrderValue': order_price,\n",
    "        'OrderPaymentMethod': order_payment_methods,\n",
    "        'OrderDeliveryMethod': order_delivery_methods,\n",
    "        'OrderTotalItems': order_total_items,\n",
    "        'productName': fake.domain_name(),\n",
    "        'productInfo': fake.sentence(),\n",
    "        'productId': fake.bothify('PROD#####'),\n",
    "        'productBrand': random.choice(list_company),\n",
    "        'productType': random.choice(list_category),\n",
    "        \"productImageUrl\": fake.image_url(),\n",
    "    }\n"
   ],
   "id": "5162835b37626665",
   "outputs": [],
   "execution_count": 33
  },
  {
   "metadata": {
    "ExecuteTime": {
     "end_time": "2025-03-31T05:17:28.645905Z",
     "start_time": "2025-03-31T05:17:28.640398Z"
    }
   },
   "cell_type": "code",
   "source": "customer_df = pd.DataFrame.from_dict(customer_info, orient='index').reset_index().rename(columns={'index': 'Customer ID'})",
   "id": "84ddda0b2da9fa3a",
   "outputs": [],
   "execution_count": 34
  },
  {
   "metadata": {
    "ExecuteTime": {
     "end_time": "2025-03-31T05:17:28.696503Z",
     "start_time": "2025-03-31T05:17:28.689907Z"
    }
   },
   "cell_type": "code",
   "source": "order_df = pd.DataFrame.from_dict(order_info, orient='index').reset_index().rename(columns={'index': 'Order ID'})",
   "id": "1c61ea00244d8a5c",
   "outputs": [],
   "execution_count": 35
  },
  {
   "metadata": {
    "ExecuteTime": {
     "end_time": "2025-03-31T05:17:28.748820Z",
     "start_time": "2025-03-31T05:17:28.739915Z"
    }
   },
   "cell_type": "code",
   "source": [
    "df = df.merge(customer_df, on='Customer ID', how='left')\n",
    "df = df.merge(order_df, on='Order ID', how='left')"
   ],
   "id": "4366749dc8788478",
   "outputs": [],
   "execution_count": 36
  },
  {
   "metadata": {
    "ExecuteTime": {
     "end_time": "2025-03-31T05:17:28.819578Z",
     "start_time": "2025-03-31T05:17:28.804167Z"
    }
   },
   "cell_type": "code",
   "source": "df.head()",
   "id": "96c8a25a4a1424ca",
   "outputs": [
    {
     "data": {
      "text/plain": [
       "    Order ID Customer ID Platform Order Date & Time  Delivery Time (Minutes)  \\\n",
       "0  ORD000001    CUST2824  JioMart           19:29.5                       30   \n",
       "1  ORD000002    CUST1409  Blinkit           54:29.5                       16   \n",
       "2  ORD000003    CUST5506  JioMart           21:29.5                       25   \n",
       "3  ORD000004    CUST5012  JioMart           19:29.5                       42   \n",
       "4  ORD000005    CUST4657  Blinkit           49:29.5                       30   \n",
       "\n",
       "      Product Category  Order Value (INR)              Customer Feedback  \\\n",
       "0  Fruits & Vegetables                382  Fast delivery, great service!   \n",
       "1                Dairy                279            Quick and reliable!   \n",
       "2            Beverages                599      Items missing from order.   \n",
       "3            Beverages                946      Items missing from order.   \n",
       "4            Beverages                334  Fast delivery, great service!   \n",
       "\n",
       "   Service Rating Delivery Delay  ...  OrderValue OrderPaymentMethod  \\\n",
       "0               5             No  ...  ₫89,405.34               Visa   \n",
       "1               5             No  ...   ₫9,936.57              Money   \n",
       "2               2             No  ...     ₫467.44              Money   \n",
       "3               2            Yes  ...  ₫70,294.31              Money   \n",
       "4               5             No  ...     ₫461.30               Visa   \n",
       "\n",
       "  OrderDeliveryMethod OrderTotalItems productName  \\\n",
       "0                Fast               9    pham.com   \n",
       "1                Fast               6      vu.com   \n",
       "2                Fast               8      vu.com   \n",
       "3                 VIP               5     mai.com   \n",
       "4            Standard               4      le.com   \n",
       "\n",
       "                           productInfo  productId  \\\n",
       "0                 Các đến hơn chỉ này.  PROD58007   \n",
       "1               Từng chỉ điều của mỗi.  PROD74791   \n",
       "2           Dưới vì này cho có mà khi.  PROD94815   \n",
       "3                  Chưa gần giống thì.  PROD19679   \n",
       "4  Cũng trong đi cho bên vì nhưng như.  PROD22488   \n",
       "\n",
       "                           productBrand productType  \\\n",
       "0           Đặng và Vũ Công ty TNHH MTV        Baby   \n",
       "1  Phạm và đối tác Doanh nghiệp tư nhân        Baby   \n",
       "2  Phạm và đối tác Doanh nghiệp tư nhân        Tech   \n",
       "3      Trần và Mai Doanh nghiệp tư nhân      Laptop   \n",
       "4         Hoàng và đối tác Công ty TNHH     Fashion   \n",
       "\n",
       "                   productImageUrl  \n",
       "0    https://picsum.photos/685/618  \n",
       "1  https://placekitten.com/154/353  \n",
       "2     https://picsum.photos/438/58  \n",
       "3    https://picsum.photos/338/950  \n",
       "4   https://dummyimage.com/739x809  \n",
       "\n",
       "[5 rows x 31 columns]"
      ],
      "text/html": [
       "<div>\n",
       "<style scoped>\n",
       "    .dataframe tbody tr th:only-of-type {\n",
       "        vertical-align: middle;\n",
       "    }\n",
       "\n",
       "    .dataframe tbody tr th {\n",
       "        vertical-align: top;\n",
       "    }\n",
       "\n",
       "    .dataframe thead th {\n",
       "        text-align: right;\n",
       "    }\n",
       "</style>\n",
       "<table border=\"1\" class=\"dataframe\">\n",
       "  <thead>\n",
       "    <tr style=\"text-align: right;\">\n",
       "      <th></th>\n",
       "      <th>Order ID</th>\n",
       "      <th>Customer ID</th>\n",
       "      <th>Platform</th>\n",
       "      <th>Order Date &amp; Time</th>\n",
       "      <th>Delivery Time (Minutes)</th>\n",
       "      <th>Product Category</th>\n",
       "      <th>Order Value (INR)</th>\n",
       "      <th>Customer Feedback</th>\n",
       "      <th>Service Rating</th>\n",
       "      <th>Delivery Delay</th>\n",
       "      <th>...</th>\n",
       "      <th>OrderValue</th>\n",
       "      <th>OrderPaymentMethod</th>\n",
       "      <th>OrderDeliveryMethod</th>\n",
       "      <th>OrderTotalItems</th>\n",
       "      <th>productName</th>\n",
       "      <th>productInfo</th>\n",
       "      <th>productId</th>\n",
       "      <th>productBrand</th>\n",
       "      <th>productType</th>\n",
       "      <th>productImageUrl</th>\n",
       "    </tr>\n",
       "  </thead>\n",
       "  <tbody>\n",
       "    <tr>\n",
       "      <th>0</th>\n",
       "      <td>ORD000001</td>\n",
       "      <td>CUST2824</td>\n",
       "      <td>JioMart</td>\n",
       "      <td>19:29.5</td>\n",
       "      <td>30</td>\n",
       "      <td>Fruits &amp; Vegetables</td>\n",
       "      <td>382</td>\n",
       "      <td>Fast delivery, great service!</td>\n",
       "      <td>5</td>\n",
       "      <td>No</td>\n",
       "      <td>...</td>\n",
       "      <td>₫89,405.34</td>\n",
       "      <td>Visa</td>\n",
       "      <td>Fast</td>\n",
       "      <td>9</td>\n",
       "      <td>pham.com</td>\n",
       "      <td>Các đến hơn chỉ này.</td>\n",
       "      <td>PROD58007</td>\n",
       "      <td>Đặng và Vũ Công ty TNHH MTV</td>\n",
       "      <td>Baby</td>\n",
       "      <td>https://picsum.photos/685/618</td>\n",
       "    </tr>\n",
       "    <tr>\n",
       "      <th>1</th>\n",
       "      <td>ORD000002</td>\n",
       "      <td>CUST1409</td>\n",
       "      <td>Blinkit</td>\n",
       "      <td>54:29.5</td>\n",
       "      <td>16</td>\n",
       "      <td>Dairy</td>\n",
       "      <td>279</td>\n",
       "      <td>Quick and reliable!</td>\n",
       "      <td>5</td>\n",
       "      <td>No</td>\n",
       "      <td>...</td>\n",
       "      <td>₫9,936.57</td>\n",
       "      <td>Money</td>\n",
       "      <td>Fast</td>\n",
       "      <td>6</td>\n",
       "      <td>vu.com</td>\n",
       "      <td>Từng chỉ điều của mỗi.</td>\n",
       "      <td>PROD74791</td>\n",
       "      <td>Phạm và đối tác Doanh nghiệp tư nhân</td>\n",
       "      <td>Baby</td>\n",
       "      <td>https://placekitten.com/154/353</td>\n",
       "    </tr>\n",
       "    <tr>\n",
       "      <th>2</th>\n",
       "      <td>ORD000003</td>\n",
       "      <td>CUST5506</td>\n",
       "      <td>JioMart</td>\n",
       "      <td>21:29.5</td>\n",
       "      <td>25</td>\n",
       "      <td>Beverages</td>\n",
       "      <td>599</td>\n",
       "      <td>Items missing from order.</td>\n",
       "      <td>2</td>\n",
       "      <td>No</td>\n",
       "      <td>...</td>\n",
       "      <td>₫467.44</td>\n",
       "      <td>Money</td>\n",
       "      <td>Fast</td>\n",
       "      <td>8</td>\n",
       "      <td>vu.com</td>\n",
       "      <td>Dưới vì này cho có mà khi.</td>\n",
       "      <td>PROD94815</td>\n",
       "      <td>Phạm và đối tác Doanh nghiệp tư nhân</td>\n",
       "      <td>Tech</td>\n",
       "      <td>https://picsum.photos/438/58</td>\n",
       "    </tr>\n",
       "    <tr>\n",
       "      <th>3</th>\n",
       "      <td>ORD000004</td>\n",
       "      <td>CUST5012</td>\n",
       "      <td>JioMart</td>\n",
       "      <td>19:29.5</td>\n",
       "      <td>42</td>\n",
       "      <td>Beverages</td>\n",
       "      <td>946</td>\n",
       "      <td>Items missing from order.</td>\n",
       "      <td>2</td>\n",
       "      <td>Yes</td>\n",
       "      <td>...</td>\n",
       "      <td>₫70,294.31</td>\n",
       "      <td>Money</td>\n",
       "      <td>VIP</td>\n",
       "      <td>5</td>\n",
       "      <td>mai.com</td>\n",
       "      <td>Chưa gần giống thì.</td>\n",
       "      <td>PROD19679</td>\n",
       "      <td>Trần và Mai Doanh nghiệp tư nhân</td>\n",
       "      <td>Laptop</td>\n",
       "      <td>https://picsum.photos/338/950</td>\n",
       "    </tr>\n",
       "    <tr>\n",
       "      <th>4</th>\n",
       "      <td>ORD000005</td>\n",
       "      <td>CUST4657</td>\n",
       "      <td>Blinkit</td>\n",
       "      <td>49:29.5</td>\n",
       "      <td>30</td>\n",
       "      <td>Beverages</td>\n",
       "      <td>334</td>\n",
       "      <td>Fast delivery, great service!</td>\n",
       "      <td>5</td>\n",
       "      <td>No</td>\n",
       "      <td>...</td>\n",
       "      <td>₫461.30</td>\n",
       "      <td>Visa</td>\n",
       "      <td>Standard</td>\n",
       "      <td>4</td>\n",
       "      <td>le.com</td>\n",
       "      <td>Cũng trong đi cho bên vì nhưng như.</td>\n",
       "      <td>PROD22488</td>\n",
       "      <td>Hoàng và đối tác Công ty TNHH</td>\n",
       "      <td>Fashion</td>\n",
       "      <td>https://dummyimage.com/739x809</td>\n",
       "    </tr>\n",
       "  </tbody>\n",
       "</table>\n",
       "<p>5 rows × 31 columns</p>\n",
       "</div>"
      ]
     },
     "execution_count": 37,
     "metadata": {},
     "output_type": "execute_result"
    }
   ],
   "execution_count": 37
  },
  {
   "metadata": {
    "ExecuteTime": {
     "end_time": "2025-03-31T05:17:28.924535Z",
     "start_time": "2025-03-31T05:17:28.910735Z"
    }
   },
   "cell_type": "code",
   "source": "df.to_csv('public/economy_delivery_data/real_data_generate.csv', index=False)",
   "id": "a23b031b281a8743",
   "outputs": [],
   "execution_count": 38
  },
  {
   "metadata": {
    "ExecuteTime": {
     "end_time": "2025-03-31T05:17:28.973827Z",
     "start_time": "2025-03-31T05:17:28.954237Z"
    }
   },
   "cell_type": "code",
   "source": [
    "# cut random 200 rows to become reference data\n",
    "df1 = pd.read_csv('public/economy_delivery_data/real_data_generate.csv')\n",
    "df1 = df1.sample(n=60, random_state=42)\n",
    "df1.to_csv('public/economy_delivery_data/reference_data.csv', index=False)"
   ],
   "id": "485d4b7d4d2fa76e",
   "outputs": [],
   "execution_count": 39
  },
  {
   "metadata": {
    "ExecuteTime": {
     "end_time": "2025-03-31T05:17:29.062913Z",
     "start_time": "2025-03-31T05:17:29.050454Z"
    }
   },
   "cell_type": "code",
   "source": [
    "reference_data = []\n",
    "for col in df.columns:\n",
    "    unique_values = df[col].dropna().unique()  # Remove NaN and get unique values\n",
    "    if len(unique_values) > 50:\n",
    "        continue\n",
    "    unique_values_str = \", \".join(map(str, unique_values))  # Limit display to first 10 unique values\n",
    "    reference_data.append({\"column_name\": col, \"reference_value\": unique_values_str})\n",
    "\n",
    "reference_df = pd.DataFrame(reference_data)\n",
    "reference_df.to_csv('public/economy_delivery_data/reference_data_value.csv', index=False)"
   ],
   "id": "ea95822a96609569",
   "outputs": [],
   "execution_count": 40
  }
 ],
 "metadata": {
  "kernelspec": {
   "display_name": "Python 3",
   "language": "python",
   "name": "python3"
  },
  "language_info": {
   "codemirror_mode": {
    "name": "ipython",
    "version": 2
   },
   "file_extension": ".py",
   "mimetype": "text/x-python",
   "name": "python",
   "nbconvert_exporter": "python",
   "pygments_lexer": "ipython2",
   "version": "2.7.6"
  }
 },
 "nbformat": 4,
 "nbformat_minor": 5
}
